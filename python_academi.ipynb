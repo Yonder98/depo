{
 "cells": [
  {
   "cell_type": "code",
   "execution_count": 1,
   "id": "5cc154d8-dcab-42ca-a147-bec91ddff855",
   "metadata": {},
   "outputs": [
    {
     "name": "stdout",
     "output_type": "stream",
     "text": [
      "Hello World\n"
     ]
    }
   ],
   "source": [
    "print(\"Hello World\")"
   ]
  },
  {
   "cell_type": "code",
   "execution_count": 5,
   "id": "49f32d33-df70-425a-af9b-3e1186049107",
   "metadata": {
    "scrolled": true
   },
   "outputs": [],
   "source": [
    "# 1-Python'da ters slash yapmak için option + soru işareti tuşlarına basıyoruz (\\)\n",
    "# 2- Python'da \\ + n yaparsak bu İngilizcede ki new line yani yeni bir satır anlamına geliyor."
   ]
  },
  {
   "cell_type": "code",
   "execution_count": null,
   "id": "df94befa-88b4-4b49-82ed-e144db48c23f",
   "metadata": {},
   "outputs": [],
   "source": [
    "# Jupiter'de bir metni kalın yapmak için  bu işaret yapılır >> \" # **...** \""
   ]
  },
  {
   "cell_type": "code",
   "execution_count": 16,
   "id": "d46e9699-651d-446d-a294-a764ee92d1d2",
   "metadata": {},
   "outputs": [
    {
     "name": "stdout",
     "output_type": "stream",
     "text": [
      "Mehmet Can\n",
      "Mehmet \n",
      "Can\n"
     ]
    }
   ],
   "source": [
    "print(\"Mehmet Can\")\n",
    "print (\"Mehmet \\nCan\")"
   ]
  },
  {
   "cell_type": "code",
   "execution_count": null,
   "id": "dd7792a0-be72-44d7-9ec4-e6dce0405c8d",
   "metadata": {},
   "outputs": [],
   "source": [
    "# 2- Python'da \\ + t yaparsak bu İngilizcede ki tab yani boşluk anlamına geliyor."
   ]
  },
  {
   "cell_type": "code",
   "execution_count": 18,
   "id": "93dec3f1-679b-466a-9dbc-71b48a8dfd6b",
   "metadata": {},
   "outputs": [
    {
     "name": "stdout",
     "output_type": "stream",
     "text": [
      "Benim Adım\tCan\n"
     ]
    }
   ],
   "source": [
    "print(\"Benim Adım\\tCan\")"
   ]
  },
  {
   "cell_type": "code",
   "execution_count": 32,
   "id": "8f803cd3-f812-40dd-acb6-4c6f2139d791",
   "metadata": {},
   "outputs": [
    {
     "name": "stdout",
     "output_type": "stream",
     "text": [
      "Benim Adım Mehmet Can\n"
     ]
    }
   ],
   "source": [
    "print(\"Benim Adım {}\".format(\"Mehmet Can\"))"
   ]
  },
  {
   "cell_type": "code",
   "execution_count": 40,
   "id": "602414ec-f1bf-4bca-a6bd-cf189e4a1081",
   "metadata": {},
   "outputs": [
    {
     "name": "stdout",
     "output_type": "stream",
     "text": [
      "Benim Adım Mehmet Can, Yaşım 26\n"
     ]
    }
   ],
   "source": [
    "print(\"Benim Adım {}, Yaşım {}\".format(\"Mehmet Can\", 26))"
   ]
  },
  {
   "cell_type": "code",
   "execution_count": 52,
   "id": "df21cf78-6193-4253-80b4-59c47259a66c",
   "metadata": {},
   "outputs": [
    {
     "name": "stdout",
     "output_type": "stream",
     "text": [
      "Benim Adım Mehmet Can, Yaşım 26\n",
      "Benim Adım 26, Yaşım Mehmet Can\n",
      "Benim adım Mehmet Can, Yaşım 26\n"
     ]
    }
   ],
   "source": [
    "print(\"Benim Adım {0}, Yaşım {1}\".format(\"Mehmet Can\", 26))\n",
    "print(\"Benim Adım {1}, Yaşım {0}\".format(\"Mehmet Can\", 26))\n",
    "print(\"Benim adım {ad}, Yaşım {yas}\".format(ad=\"Mehmet Can\", yas=26))\n",
    "\n",
    "# 3. yöntem en sağlıklı yöntem"
   ]
  },
  {
   "cell_type": "code",
   "execution_count": 77,
   "id": "63c5c194-c37e-4f59-9564-9419752ca7ca",
   "metadata": {},
   "outputs": [],
   "source": [
    "# DEĞİŞKENLER \n",
    "# Kabul edilmeyen değişken isim atama senaryoları:\n",
    "# 1- Sayı ile başlamak\n",
    "# 2-Boşluk içermek\n",
    "# 3-\"*(/ gibi semboller içermek\n",
    "# 4-Rezerve edilmiş isimler kullanmak \n",
    "\n",
    "#Örnek 1: 1sayi = 10 yazdırdığımızda hata verecektir.\n",
    "#Örnek 2: sayi 1 = 8 yazdırdığımızda hata verecektir çünkü boşluk var. (sayi1=10 olmalıydı)\n",
    "#Örnek 3: sayi* = 7 yazdırdığımızda hata verecektir.\n",
    "#Örnek 4: class = \"Araba\"  # ❌ Hata: 'class' bir Python anahtar kelimesidir. \n",
    "\n",
    "#Python'da değişken adı olarak kullanılamayan bazı kelimeler şunlardır:\n",
    "# (False, None, True, and, as, assert, async, await, break, class, continue, def,\n",
    "# del, elif, else, except, finally, for, from, global, if, import, in, is,\n",
    "# lambda, nonlocal, not, or, pass, raise, return, try, while, with, yield)\n"
   ]
  },
  {
   "cell_type": "code",
   "execution_count": 89,
   "id": "18ff3942-536b-49ea-b888-edb94a0342f1",
   "metadata": {},
   "outputs": [],
   "source": [
    "\n",
    "##############################################################\n",
    "#                    - VERİ TİPLERİ-                         #\n",
    "##############################################################\n",
    "#    Tip        #    Kısaltma    #          Örnek            #\n",
    "##############################################################\n",
    "#  Integer      #      int       #       3, 10               #\n",
    "#  Float        #      float     #      1.5, 7.0             #\n",
    "#  String       #      str       #     \"S3m\", '2'            #\n",
    "#  Boolean      #      bool      #   True, False             #\n",
    "#  List         #      list      # [1, 2, True, 'a', 1]      #\n",
    "#               #                #                           #\n",
    "#  Set          #      set       # {1, 2, True, 'a'}         #\n",
    "#  Dictionary   #      dict      # {\"isim\": \"Can\",\"yas\": 26} #\n",
    "#  Tuple        #      tuple     #  (1, 2, True)             #\n",
    "##############################################################"
   ]
  },
  {
   "cell_type": "code",
   "execution_count": 125,
   "id": "ac0769fb-fefe-4a68-b1f8-9d549ffd4874",
   "metadata": {},
   "outputs": [
    {
     "data": {
      "text/plain": [
       "(float, str, int)"
      ]
     },
     "execution_count": 125,
     "metadata": {},
     "output_type": "execute_result"
    }
   ],
   "source": [
    "type(1.5) , type(\"hello\") , type(2)"
   ]
  },
  {
   "cell_type": "code",
   "execution_count": 107,
   "id": "a796bd42-f9de-477c-b5c0-87ca0a27878e",
   "metadata": {},
   "outputs": [],
   "source": [
    "# ARİTMETİK OPERATÖRLER"
   ]
  },
  {
   "cell_type": "code",
   "execution_count": 113,
   "id": "09ad6363-a218-4d0c-9aa2-4e506aa0d034",
   "metadata": {},
   "outputs": [
    {
     "data": {
      "text/plain": [
       "7"
      ]
     },
     "execution_count": 113,
     "metadata": {},
     "output_type": "execute_result"
    }
   ],
   "source": [
    "3+4"
   ]
  },
  {
   "cell_type": "code",
   "execution_count": 115,
   "id": "8c731712-6c35-488c-ba86-a532bce803ae",
   "metadata": {},
   "outputs": [
    {
     "data": {
      "text/plain": [
       "12"
      ]
     },
     "execution_count": 115,
     "metadata": {},
     "output_type": "execute_result"
    }
   ],
   "source": [
    "3*4"
   ]
  },
  {
   "cell_type": "code",
   "execution_count": 117,
   "id": "3b4169f4-c63c-4a8a-bed7-8e3d9a81e50e",
   "metadata": {},
   "outputs": [
    {
     "data": {
      "text/plain": [
       "2"
      ]
     },
     "execution_count": 117,
     "metadata": {},
     "output_type": "execute_result"
    }
   ],
   "source": [
    "5%3"
   ]
  },
  {
   "cell_type": "code",
   "execution_count": 127,
   "id": "59786b1c-ea53-459a-8186-98802efb4fa6",
   "metadata": {},
   "outputs": [
    {
     "name": "stdout",
     "output_type": "stream",
     "text": [
      "12\n",
      "8\n"
     ]
    }
   ],
   "source": [
    "print (3*4)\n",
    "print (3+5)"
   ]
  },
  {
   "cell_type": "code",
   "execution_count": 129,
   "id": "de256a19-172f-4820-bb35-c08cd0d32e2a",
   "metadata": {},
   "outputs": [],
   "source": [
    "#print dediğimizde her ikisini de döndürüyor, print demediğimizde ise ne oluyor görelim:"
   ]
  },
  {
   "cell_type": "code",
   "execution_count": 131,
   "id": "1d98a34e-1c7b-4dd1-93d1-b2447a595539",
   "metadata": {},
   "outputs": [
    {
     "data": {
      "text/plain": [
       "8"
      ]
     },
     "execution_count": 131,
     "metadata": {},
     "output_type": "execute_result"
    }
   ],
   "source": [
    "3*4\n",
    "3+5"
   ]
  },
  {
   "cell_type": "code",
   "execution_count": 133,
   "id": "c012ab17-57b0-4fe5-b068-3575473d6772",
   "metadata": {},
   "outputs": [
    {
     "data": {
      "text/plain": [
       "13"
      ]
     },
     "execution_count": 133,
     "metadata": {},
     "output_type": "execute_result"
    }
   ],
   "source": [
    "3+2*5"
   ]
  },
  {
   "cell_type": "code",
   "execution_count": 3,
   "id": "058e4afa-ea37-428f-a211-278d15bd7659",
   "metadata": {},
   "outputs": [
    {
     "data": {
      "text/plain": [
       "6.2"
      ]
     },
     "execution_count": 3,
     "metadata": {},
     "output_type": "execute_result"
    }
   ],
   "source": [
    "3.1*2.0"
   ]
  },
  {
   "cell_type": "code",
   "execution_count": 138,
   "id": "fab3d200-4441-472c-9595-a513663464c9",
   "metadata": {},
   "outputs": [
    {
     "data": {
      "text/plain": [
       "15.5"
      ]
     },
     "execution_count": 138,
     "metadata": {},
     "output_type": "execute_result"
    }
   ],
   "source": [
    "3.1*5"
   ]
  },
  {
   "cell_type": "code",
   "execution_count": 140,
   "id": "02054352-7c74-49f5-a3b0-098102f7be16",
   "metadata": {},
   "outputs": [
    {
     "data": {
      "text/plain": [
       "15.0"
      ]
     },
     "execution_count": 140,
     "metadata": {},
     "output_type": "execute_result"
    }
   ],
   "source": [
    "#yani ondalık sayı ile bir tam sayıyı bir işleme koyduğunuzda, sonucu ondalık sayı olarak sonuçlandırır.\n",
    "3.0*5"
   ]
  },
  {
   "cell_type": "raw",
   "id": "d1dbf129-a6e1-4582-8a78-b10947417761",
   "metadata": {},
   "source": [
    "INDEXLEME GÖSTERİM TİPLERİ"
   ]
  },
  {
   "cell_type": "markdown",
   "id": "d53e2e2b-6808-470d-8ada-a67f161b2109",
   "metadata": {},
   "source": [
    "P|Y|T|H|O|N\n",
    "------------\n",
    "0|1|2|3|4|5|\n",
    "\n",
    "0|-1|-2|-3|-4|-5|"
   ]
  },
  {
   "cell_type": "code",
   "execution_count": 166,
   "id": "b83b207a-67f2-4319-a567-3bf9b6c0b2c5",
   "metadata": {},
   "outputs": [
    {
     "name": "stdout",
     "output_type": "stream",
     "text": [
      "Python\n"
     ]
    }
   ],
   "source": [
    "strvar = \"Python\"\n",
    "print (strvar)"
   ]
  },
  {
   "cell_type": "code",
   "execution_count": 170,
   "id": "13a63c84-96a1-4d88-9480-b44ad8393f4c",
   "metadata": {},
   "outputs": [
    {
     "data": {
      "text/plain": [
       "'h'"
      ]
     },
     "execution_count": 170,
     "metadata": {},
     "output_type": "execute_result"
    }
   ],
   "source": [
    "strvar [-3]"
   ]
  },
  {
   "cell_type": "code",
   "execution_count": 194,
   "id": "c83b4b3d-321f-4823-9c03-3dd9e0954a3d",
   "metadata": {},
   "outputs": [
    {
     "data": {
      "text/plain": [
       "'thon'"
      ]
     },
     "execution_count": 194,
     "metadata": {},
     "output_type": "execute_result"
    }
   ],
   "source": [
    "strvar [2:]"
   ]
  },
  {
   "cell_type": "code",
   "execution_count": 196,
   "id": "c3993cd8-9a30-4bb8-8a03-581071c8f3bd",
   "metadata": {},
   "outputs": [
    {
     "data": {
      "text/plain": [
       "'Pyt'"
      ]
     },
     "execution_count": 196,
     "metadata": {},
     "output_type": "execute_result"
    }
   ],
   "source": [
    "strvar [:3]"
   ]
  },
  {
   "cell_type": "code",
   "execution_count": 198,
   "id": "73a331c9-a29b-442b-96cf-f077f133001c",
   "metadata": {},
   "outputs": [
    {
     "data": {
      "text/plain": [
       "'tho'"
      ]
     },
     "execution_count": 198,
     "metadata": {},
     "output_type": "execute_result"
    }
   ],
   "source": [
    "strvar [2:5]"
   ]
  },
  {
   "cell_type": "code",
   "execution_count": 202,
   "id": "5fd8a678-06b6-4a6c-8acc-943ef6d6d3d1",
   "metadata": {},
   "outputs": [
    {
     "data": {
      "text/plain": [
       "'Python'"
      ]
     },
     "execution_count": 202,
     "metadata": {},
     "output_type": "execute_result"
    }
   ],
   "source": [
    "strvar [:]"
   ]
  },
  {
   "cell_type": "code",
   "execution_count": 208,
   "id": "d2cfbc12-c5ee-40a1-a1c0-02f538604636",
   "metadata": {},
   "outputs": [
    {
     "data": {
      "text/plain": [
       "'yo'"
      ]
     },
     "execution_count": 208,
     "metadata": {},
     "output_type": "execute_result"
    }
   ],
   "source": [
    "strvar [1:5:3]"
   ]
  },
  {
   "cell_type": "code",
   "execution_count": 184,
   "id": "5016fe2a-2da7-4c6c-9d3a-f994c5ff037a",
   "metadata": {},
   "outputs": [],
   "source": [
    "# [] 1.kullanım tek bir eleman alınır."
   ]
  },
  {
   "cell_type": "code",
   "execution_count": 188,
   "id": "a4586dcf-8a91-4075-bcb0-55faa29a3334",
   "metadata": {},
   "outputs": [],
   "source": [
    "# [:] 2.kullanım başlangıç ve bitiş arasındaki elemanlar alınır."
   ]
  },
  {
   "cell_type": "code",
   "execution_count": 190,
   "id": "8c2a64bb-a200-4e7f-b1f8-ea90475792c2",
   "metadata": {},
   "outputs": [],
   "source": [
    "# [::] 3.kullanım başlangıç ve bitiş arasındaki elemanlar üçüncü kısımdaki değere göre atlayarak değerler alır.\n"
   ]
  },
  {
   "cell_type": "code",
   "execution_count": 214,
   "id": "a444dffd-a40a-4c60-9b29-8c2be0919215",
   "metadata": {},
   "outputs": [],
   "source": [
    "# len uzunluk anlamına gelir."
   ]
  },
  {
   "cell_type": "code",
   "execution_count": 212,
   "id": "da50abff-2aa2-429b-86e4-883da384f170",
   "metadata": {},
   "outputs": [
    {
     "data": {
      "text/plain": [
       "6"
      ]
     },
     "execution_count": 212,
     "metadata": {},
     "output_type": "execute_result"
    }
   ],
   "source": [
    "len (strvar)"
   ]
  },
  {
   "cell_type": "code",
   "execution_count": 229,
   "id": "99b77384-7609-4dfd-87b9-7b836b610bdf",
   "metadata": {},
   "outputs": [
    {
     "data": {
      "text/plain": [
       "'Python öğren!'"
      ]
     },
     "execution_count": 229,
     "metadata": {},
     "output_type": "execute_result"
    }
   ],
   "source": [
    "strvar +  \" öğren!\""
   ]
  },
  {
   "cell_type": "code",
   "execution_count": 253,
   "id": "275403dc-b6f2-42b8-afb6-58ad96ae5896",
   "metadata": {},
   "outputs": [
    {
     "data": {
      "text/plain": [
       "'Python öğren! öğren! öğren! öğren! öğren! öğren! öğren!'"
      ]
     },
     "execution_count": 253,
     "metadata": {},
     "output_type": "execute_result"
    }
   ],
   "source": [
    "strvar = strvar + \" öğren!\"\n",
    "strvar"
   ]
  },
  {
   "cell_type": "code",
   "execution_count": 255,
   "id": "704a6c33-e5c1-44f9-a214-347184bbfbc5",
   "metadata": {},
   "outputs": [
    {
     "data": {
      "text/plain": [
       "'Python öğren! öğren! öğren! öğren! öğren! öğren! öğren!Python öğren! öğren! öğren! öğren! öğren! öğren! öğren!Python öğren! öğren! öğren! öğren! öğren! öğren! öğren!Python öğren! öğren! öğren! öğren! öğren! öğren! öğren!Python öğren! öğren! öğren! öğren! öğren! öğren! öğren!'"
      ]
     },
     "execution_count": 255,
     "metadata": {},
     "output_type": "execute_result"
    }
   ],
   "source": [
    "strvar * 5"
   ]
  },
  {
   "cell_type": "code",
   "execution_count": 257,
   "id": "e838d774-dc27-4c28-8e8c-0d33dba6aa16",
   "metadata": {},
   "outputs": [
    {
     "data": {
      "text/plain": [
       "'Python öğren! öğren! öğren! öğren! öğren! öğren! öğren!'"
      ]
     },
     "execution_count": 257,
     "metadata": {},
     "output_type": "execute_result"
    }
   ],
   "source": [
    "strvar"
   ]
  },
  {
   "cell_type": "code",
   "execution_count": 259,
   "id": "8457dfc5-47fa-4973-8671-66ef5cd570c2",
   "metadata": {},
   "outputs": [
    {
     "data": {
      "text/plain": [
       "<function str.upper()>"
      ]
     },
     "execution_count": 259,
     "metadata": {},
     "output_type": "execute_result"
    }
   ],
   "source": [
    "strvar.upper"
   ]
  },
  {
   "cell_type": "code",
   "execution_count": 261,
   "id": "127e7b0c-490e-486f-b9a7-95ccaf401d46",
   "metadata": {},
   "outputs": [],
   "source": [
    "#Gördüğünüz gibi strvar.upper bir fonksiyon buna parantez eklediğimizde ise fonksiyon olarak değil çıktıyı görüyoruz:\n",
    "#Noktadan sonra opsiyonlar listesi olan açılır menüyü görmek için jupiterde tab işaretine basıyoruz ve upper'ı seçiyoruz."
   ]
  },
  {
   "cell_type": "code",
   "execution_count": 263,
   "id": "45ee3201-c213-4953-9eff-1cc3d3e10170",
   "metadata": {},
   "outputs": [
    {
     "data": {
      "text/plain": [
       "'PYTHON ÖĞREN! ÖĞREN! ÖĞREN! ÖĞREN! ÖĞREN! ÖĞREN! ÖĞREN!'"
      ]
     },
     "execution_count": 263,
     "metadata": {},
     "output_type": "execute_result"
    }
   ],
   "source": [
    "print (strvar.upper())"
   ]
  },
  {
   "cell_type": "code",
   "execution_count": 265,
   "id": "7694cd7e-f781-481e-9c92-ba39b056d985",
   "metadata": {},
   "outputs": [
    {
     "name": "stdout",
     "output_type": "stream",
     "text": [
      "python öğren! öğren! öğren! öğren! öğren! öğren! öğren!\n"
     ]
    }
   ],
   "source": [
    "print (strvar.lower())"
   ]
  },
  {
   "cell_type": "code",
   "execution_count": 267,
   "id": "6e25936c-21f7-49c6-ae32-3d523fb1cf78",
   "metadata": {},
   "outputs": [
    {
     "name": "stdout",
     "output_type": "stream",
     "text": [
      "['Python', 'öğren!', 'öğren!', 'öğren!', 'öğren!', 'öğren!', 'öğren!', 'öğren!']\n"
     ]
    }
   ],
   "source": [
    "print (strvar.split())"
   ]
  },
  {
   "cell_type": "code",
   "execution_count": 269,
   "id": "b12f54c8-dcbd-4e39-ad51-483817a9ffe0",
   "metadata": {},
   "outputs": [
    {
     "name": "stdout",
     "output_type": "stream",
     "text": [
      "['Pyth', 'n öğren! öğren! öğren! öğren! öğren! öğren! öğren!']\n"
     ]
    }
   ],
   "source": [
    "print (strvar.split(\"o\"))"
   ]
  },
  {
   "cell_type": "code",
   "execution_count": 273,
   "id": "3ed75aad-d2f1-4598-b1cc-1b0defea8aa7",
   "metadata": {},
   "outputs": [],
   "source": [
    "# print (strvar.split()) diyelim ki split işaretini merak ediyoruz, \n",
    "#parantezi koyduktan sonra shift + tab işaretine basarsak, dökumantasyonu görebiliyoruz."
   ]
  },
  {
   "cell_type": "code",
   "execution_count": 286,
   "id": "2d70be88-e197-4f1e-8249-4934a103a5b0",
   "metadata": {},
   "outputs": [
    {
     "data": {
      "text/plain": [
       "['Pyth', 'n öğren! öğren! öğren! öğren! öğren! öğren! öğren!']"
      ]
     },
     "execution_count": 286,
     "metadata": {},
     "output_type": "execute_result"
    }
   ],
   "source": [
    "strvar.split(sep=\"o\", maxsplit=-3)"
   ]
  },
  {
   "cell_type": "markdown",
   "id": "88019813-7718-4aaa-a1b9-93e32f6ab185",
   "metadata": {},
   "source": [
    "BOOLEAN"
   ]
  },
  {
   "cell_type": "code",
   "execution_count": 299,
   "id": "d46ba9e2-13f8-4be5-91ea-124ea9824bfb",
   "metadata": {},
   "outputs": [
    {
     "name": "stdout",
     "output_type": "stream",
     "text": [
      "<class 'bool'>\n",
      "True\n",
      "False\n",
      "<class 'str'>\n"
     ]
    }
   ],
   "source": [
    "a = True \n",
    "print (type(a))\n",
    "b = False\n",
    "print (a)\n",
    "print (b)\n",
    "c = \"True\"\n",
    "print (type(c))"
   ]
  },
  {
   "cell_type": "code",
   "execution_count": 303,
   "id": "d2dc4b79-abb4-4eec-8e57-f63c8a9ccde7",
   "metadata": {},
   "outputs": [
    {
     "name": "stdout",
     "output_type": "stream",
     "text": [
      "False\n"
     ]
    }
   ],
   "source": [
    "yas1 = 20\n",
    "yas2 = 18\n",
    "print (yas2 > yas1)"
   ]
  },
  {
   "cell_type": "code",
   "execution_count": 310,
   "id": "51f7f793-9aa6-4381-b9e8-10be9c8a4846",
   "metadata": {},
   "outputs": [
    {
     "data": {
      "text/plain": [
       "True"
      ]
     },
     "execution_count": 310,
     "metadata": {},
     "output_type": "execute_result"
    }
   ],
   "source": [
    "yas2 == 18"
   ]
  },
  {
   "cell_type": "code",
   "execution_count": 312,
   "id": "c26f5c03-8a51-4d0d-a77c-c9aabce5c9be",
   "metadata": {},
   "outputs": [
    {
     "data": {
      "text/plain": [
       "False"
      ]
     },
     "execution_count": 312,
     "metadata": {},
     "output_type": "execute_result"
    }
   ],
   "source": [
    "yas2 != 18"
   ]
  },
  {
   "cell_type": "code",
   "execution_count": 316,
   "id": "0a27a638-6f75-4c88-9f24-4bad07f8f1f4",
   "metadata": {},
   "outputs": [
    {
     "data": {
      "text/plain": [
       "False"
      ]
     },
     "execution_count": 316,
     "metadata": {},
     "output_type": "execute_result"
    }
   ],
   "source": [
    "not yas2 == 18"
   ]
  },
  {
   "cell_type": "code",
   "execution_count": 318,
   "id": "a9ae70ce-cd89-4452-84d1-ccfefe9f9dbd",
   "metadata": {},
   "outputs": [
    {
     "data": {
      "text/plain": [
       "True"
      ]
     },
     "execution_count": 318,
     "metadata": {},
     "output_type": "execute_result"
    }
   ],
   "source": [
    "not yas2 > 18"
   ]
  },
  {
   "cell_type": "code",
   "execution_count": null,
   "id": "9345e7a0-0065-44a0-8455-e62122a58b50",
   "metadata": {},
   "outputs": [],
   "source": [
    "#eşitlik durumlarında genelde ünlem, büyüktü-küçüktür durumlarında ise not kullanabiliriz.\n"
   ]
  },
  {
   "cell_type": "markdown",
   "id": "cf6e2fa2-ae31-4b93-87b1-fd4db05a3043",
   "metadata": {},
   "source": [
    "list & set\n",
    "\n",
    "[a, b, c, d, e, a,]\n",
    "-----------------------\n",
    "0 | 1 | 2 | 3 | 4 | 5\n",
    "\n",
    "0|-5|-4|-3|-2|-1"
   ]
  },
  {
   "cell_type": "code",
   "execution_count": 7,
   "id": "0df9708a-f544-41b6-b5a5-0a89608fab65",
   "metadata": {},
   "outputs": [
    {
     "name": "stdout",
     "output_type": "stream",
     "text": [
      "['a', 'b', 'c', 'd', 'e', 'a']\n"
     ]
    }
   ],
   "source": [
    "liste = ['a', 'b', 'c', 'd', 'e', 'a']\n",
    "print (liste)"
   ]
  },
  {
   "cell_type": "code",
   "execution_count": null,
   "id": "405f2321-65c9-4964-8615-7448d4d4c5df",
   "metadata": {},
   "outputs": [],
   "source": [
    "# Not: Liste mantığında listeye yeni bir eleman eklerken o eleman liste şeklinde eklenir yani normal parantez yerine, \n",
    "# köşeli parantez kullanırız.  liste = liste + (\"f\") (Yanlış)"
   ]
  },
  {
   "cell_type": "code",
   "execution_count": 340,
   "id": "82d73be3-631d-4f2a-b4e7-10aaecb26963",
   "metadata": {},
   "outputs": [
    {
     "name": "stdout",
     "output_type": "stream",
     "text": [
      "['a', 'b', 'c', 'd', 'e', 'a', 'f', 'f', 'f']\n"
     ]
    }
   ],
   "source": [
    "liste = liste + ['f']\n",
    "print (liste)"
   ]
  },
  {
   "cell_type": "code",
   "execution_count": 346,
   "id": "e58efe95-2684-40c4-a4ba-65626b44c9e7",
   "metadata": {},
   "outputs": [
    {
     "data": {
      "text/plain": [
       "['a', 'b', 'c', 'd', 'e', 'a', 'f', 'f', 'f', 'g', 'g']"
      ]
     },
     "execution_count": 346,
     "metadata": {},
     "output_type": "execute_result"
    }
   ],
   "source": [
    "liste.append ('g')\n",
    "liste"
   ]
  },
  {
   "cell_type": "code",
   "execution_count": 5,
   "id": "8011c0dc-ee6d-4b1c-b5a8-c176b3e2f1ef",
   "metadata": {},
   "outputs": [],
   "source": [
    "# Normalde listeye tekrar geri atardık yani liste = liste.append ('g')  olurdu,\n",
    "# ama bunu yapmamamızın sebebi bazı komutlar (append, pop vs. gibi) geri atama gerektirmeksizin çalışır. \n",
    "# Buna  \"in-place operation\" veya \"mutating operation\" denir. "
   ]
  },
  {
   "cell_type": "code",
   "execution_count": 352,
   "id": "457a54ba-99e2-4a97-a9e4-d0ce4648ce6b",
   "metadata": {},
   "outputs": [
    {
     "data": {
      "text/plain": [
       "['a', 'b', 'c', 'd', 'e', 'a', 'f', 'f', 'f', 'g']"
      ]
     },
     "execution_count": 352,
     "metadata": {},
     "output_type": "execute_result"
    }
   ],
   "source": [
    "liste.pop ()\n",
    "liste"
   ]
  },
  {
   "cell_type": "markdown",
   "id": "a69e0b7c-811f-40fd-968f-38f29293136a",
   "metadata": {},
   "source": [
    "liste [3:]"
   ]
  },
  {
   "cell_type": "code",
   "execution_count": 12,
   "id": "c4b7d268-f562-40d9-adad-ed6fa3dfd971",
   "metadata": {},
   "outputs": [
    {
     "data": {
      "text/plain": [
       "['d', 'e']"
      ]
     },
     "execution_count": 12,
     "metadata": {},
     "output_type": "execute_result"
    }
   ],
   "source": [
    "liste [3:5]"
   ]
  },
  {
   "cell_type": "code",
   "execution_count": 10,
   "id": "9a5d76b0-dbb7-4375-9934-5b6b2f6ba358",
   "metadata": {},
   "outputs": [
    {
     "data": {
      "text/plain": [
       "'a'"
      ]
     },
     "execution_count": 10,
     "metadata": {},
     "output_type": "execute_result"
    }
   ],
   "source": [
    "liste.pop (5)"
   ]
  },
  {
   "cell_type": "code",
   "execution_count": 360,
   "id": "ec58877d-56b4-4838-a981-aa9124f3f474",
   "metadata": {},
   "outputs": [
    {
     "data": {
      "text/plain": [
       "['a', 'b', 'c', 'd', 'e', 'f', 'f', 'f', 'g']"
      ]
     },
     "execution_count": 360,
     "metadata": {},
     "output_type": "execute_result"
    }
   ],
   "source": [
    "liste"
   ]
  },
  {
   "cell_type": "code",
   "execution_count": 374,
   "id": "cf2fa2cd-d290-4a20-a59c-cc83cfb67fcc",
   "metadata": {},
   "outputs": [
    {
     "data": {
      "text/plain": [
       "['a', 'b', 'c', 'd', 'e', 'f', 'f', 'g']"
      ]
     },
     "execution_count": 374,
     "metadata": {},
     "output_type": "execute_result"
    }
   ],
   "source": [
    "liste.pop (6), (7)\n",
    "liste"
   ]
  },
  {
   "cell_type": "code",
   "execution_count": 376,
   "id": "1e3b901d-b8b6-4287-a5a0-6bd981e2ca4f",
   "metadata": {},
   "outputs": [],
   "source": [
    "sayilar = [123, 1342, 345, 24, 7, 45678, 1, 1]\n",
    "sayilar.sort ()"
   ]
  },
  {
   "cell_type": "code",
   "execution_count": 378,
   "id": "721c18e8-c97e-47a0-88be-a974233a0d6b",
   "metadata": {},
   "outputs": [
    {
     "data": {
      "text/plain": [
       "[1, 1, 7, 24, 123, 345, 1342, 45678]"
      ]
     },
     "execution_count": 378,
     "metadata": {},
     "output_type": "execute_result"
    }
   ],
   "source": [
    "sayilar"
   ]
  },
  {
   "cell_type": "code",
   "execution_count": 384,
   "id": "b02cc1dd-fc6a-4fae-b432-b307d6ca4873",
   "metadata": {},
   "outputs": [
    {
     "name": "stdout",
     "output_type": "stream",
     "text": [
      "[1, 1, 7, 24, 123, 345, 1342, 45678]\n"
     ]
    }
   ],
   "source": [
    "sayilar.reverse()\n",
    "print(sayilar)"
   ]
  },
  {
   "cell_type": "code",
   "execution_count": 391,
   "id": "2ff9fb0d-8fe9-4d37-844c-e022d5ad44cd",
   "metadata": {},
   "outputs": [
    {
     "data": {
      "text/plain": [
       "{1, 7, 24, 123, 345, 1342, 45678}"
      ]
     },
     "execution_count": 391,
     "metadata": {},
     "output_type": "execute_result"
    }
   ],
   "source": [
    "set(sayilar)"
   ]
  },
  {
   "cell_type": "code",
   "execution_count": null,
   "id": "99ee9463-fa23-4e82-9f44-29a5e6ea2634",
   "metadata": {},
   "outputs": [],
   "source": []
  },
  {
   "cell_type": "markdown",
   "id": "256402a6-54cb-487e-8d78-cdfe6aae8796",
   "metadata": {},
   "source": [
    "TUPLE  (Immutable (Değiştirilemez) Veri)\n",
    "\n",
    "[a, b, c, d, e, a,]\n",
    "\n",
    "0 | 1| 2 | 3 | 4 |5\n",
    "\n",
    "0|-5|-4|-3|-2|-1"
   ]
  },
  {
   "cell_type": "code",
   "execution_count": 407,
   "id": "ce60e330-5c2a-4fb1-bb7a-112e3ea1c2ff",
   "metadata": {},
   "outputs": [
    {
     "name": "stdout",
     "output_type": "stream",
     "text": [
      "['a', 'b', 'c', 'd', 'e', 'a']\n",
      "('a', 'b', 'c', 'd', 'e', 'a')\n"
     ]
    }
   ],
   "source": [
    "liste = ['a', 'b', 'c', 'd', 'e', 'a']\n",
    "print(liste)\n",
    "tup = ('a', 'b', 'c', 'd', 'e', 'a')\n",
    "print (tup)"
   ]
  },
  {
   "cell_type": "code",
   "execution_count": 409,
   "id": "fa704af2-8f27-46fe-9b7b-632fd1fd24a7",
   "metadata": {},
   "outputs": [
    {
     "data": {
      "text/plain": [
       "[1312, 'b', 'c', 'd', 'e', 'a']"
      ]
     },
     "execution_count": 409,
     "metadata": {},
     "output_type": "execute_result"
    }
   ],
   "source": [
    "liste[0] = 1312\n",
    "liste"
   ]
  },
  {
   "cell_type": "code",
   "execution_count": 411,
   "id": "aa3760b9-1ad4-4bc3-980a-b6aa298d196e",
   "metadata": {},
   "outputs": [
    {
     "data": {
      "text/plain": [
       "('a', 'b', 'c')"
      ]
     },
     "execution_count": 411,
     "metadata": {},
     "output_type": "execute_result"
    }
   ],
   "source": [
    "tup [0:3]"
   ]
  },
  {
   "cell_type": "code",
   "execution_count": 415,
   "id": "99c3e2af-21f6-4aae-b641-f3480c50a92e",
   "metadata": {},
   "outputs": [],
   "source": [
    "# tup[0] = 1312 dediğimiz zaman pyhton buna izin vermez. \n",
    "# tup   \n",
    "\n",
    "#TypeError: 'tuple' object does not support item assignment\n",
    "\n",
    "#Buna en güzel örnek, serverlar arasındaki mesajlaşmadır. Bir mesaj A sunucusundan B sunucusuna gider,\n",
    "#Ve siz ne olursa olsun o değerin saklanmasını istersiniz. \n",
    "\n",
    "#Bu durumun en büyük avantajı, veri bütünlüğünün korunmasıdır.\n",
    "#Bir kez oluşturulan tuple, değiştirilemez olduğu için, istemeden yapılan değişiklikler veya kötü niyetli müdahaleler önlenmiş olur.\n",
    "#Örneğin, bir sunucu bir istemciden gelen veriyi işleyip başka bir sunucuya iletirken, \n",
    "#verinin değişmemesi gerektiği durumlarda tuple kullanmak güvenli bir seçimdir.\n",
    "\n",
    "#Gerçek Dünya Senaryosu: Mesaj Bütünlüğü\n",
    "#Bir banka işlemi sırasında, sunucular arasında hesap numarası,\n",
    "#işlem tutarı ve zaman damgası gibi kritik bilgiler taşınır. \n",
    "#Eğer bu bilgiler bir list yerine tuple içinde saklanırsa, yanlışlıkla değiştirilme riski ortadan kalkar:\n",
    "\n",
    "#transaction = (\"John Doe\", \"123456789\", 5000, \"2025-02-24 12:30:00\")\n",
    "#Burada transaction[2] = 6000 gibi bir atama yapılamaz. Böylece, işlem tutarının sonradan değişmesi önlenmiş olur."
   ]
  },
  {
   "cell_type": "code",
   "execution_count": 437,
   "id": "bced14fc-d294-4e89-beb8-e0c177e677c9",
   "metadata": {},
   "outputs": [
    {
     "data": {
      "text/plain": [
       "2"
      ]
     },
     "execution_count": 437,
     "metadata": {},
     "output_type": "execute_result"
    }
   ],
   "source": [
    "tup.count('a')\n"
   ]
  },
  {
   "cell_type": "code",
   "execution_count": 439,
   "id": "a2163abf-2d42-4103-b135-d50a71cf5b10",
   "metadata": {},
   "outputs": [
    {
     "data": {
      "text/plain": [
       "0"
      ]
     },
     "execution_count": 439,
     "metadata": {},
     "output_type": "execute_result"
    }
   ],
   "source": [
    "tup.count('true')"
   ]
  },
  {
   "cell_type": "code",
   "execution_count": 445,
   "id": "17a8dfee-1467-404e-8774-81df56e849df",
   "metadata": {},
   "outputs": [],
   "source": [
    "# tup.count('true') dediğimizde olmayan bir değerin çıktısını alabiliyoruz fakat; \n",
    "# tup.index('true') dediğimizde bir karşılığı yok ve hata veriyor.\n",
    "\n",
    "#---------------------------------------------------------------------------\n",
    "#ValueError                                Traceback (most recent call last)\n",
    "#Cell In[443], line 1\n",
    "#----> 1 tup.index('true')\n",
    "\n",
    "#ValueError: tuple.index(x): x not in tuple\n"
   ]
  },
  {
   "cell_type": "markdown",
   "id": "2071f756-02e1-4c09-ac8b-5578291d0917",
   "metadata": {},
   "source": [
    "Dictionary"
   ]
  },
  {
   "cell_type": "code",
   "execution_count": 453,
   "id": "7776ba84-6c75-408d-aeb7-2189f9690493",
   "metadata": {},
   "outputs": [
    {
     "data": {
      "text/plain": [
       "{'isim': 'Mehmet Can', 'yas:': 26, 'lokasyon': 'Adana'}"
      ]
     },
     "execution_count": 453,
     "metadata": {},
     "output_type": "execute_result"
    }
   ],
   "source": [
    "dict1 = {'isim': 'Mehmet Can', 'yas:': 26, 'lokasyon': 'Adana'}\n",
    "dict1"
   ]
  },
  {
   "cell_type": "code",
   "execution_count": null,
   "id": "0a329d25-4290-4718-8333-8a76c901ef31",
   "metadata": {},
   "outputs": [],
   "source": [
    "#Yukarıda ki yazım tarzı kötü bir okunaklık sunar ve tercih edilmez."
   ]
  },
  {
   "cell_type": "code",
   "execution_count": 472,
   "id": "d272d436-46fa-47db-b001-82f6529ea3dc",
   "metadata": {},
   "outputs": [
    {
     "data": {
      "text/plain": [
       "{'isim': 'Mehmet Can',\n",
       " 'yas': 26,\n",
       " 'dogdugu_sehir': 'Adana',\n",
       " 'yasadigi_sehir': 'İstanbul'}"
      ]
     },
     "execution_count": 472,
     "metadata": {},
     "output_type": "execute_result"
    }
   ],
   "source": [
    "dict2 = {\n",
    "    'isim': 'Mehmet Can', \n",
    "    'yas': 26,\n",
    "    'dogdugu_sehir': 'Adana',\n",
    "    'yasadigi_sehir': 'İstanbul'\n",
    "}\n",
    "dict2\n",
    "    "
   ]
  },
  {
   "cell_type": "code",
   "execution_count": null,
   "id": "1d05379a-7ec2-4e66-aee0-43dc1543f140",
   "metadata": {},
   "outputs": [],
   "source": [
    "#Yukarıda ki yazım tarzı bir tık daha iyidir."
   ]
  },
  {
   "cell_type": "code",
   "execution_count": 461,
   "id": "8b89e3e9-770f-4ee9-aaa8-e24fbbe872e4",
   "metadata": {},
   "outputs": [
    {
     "data": {
      "text/plain": [
       "{'isim': 'Mehmet Can',\n",
       " 'yas': 26,\n",
       " 'lokasyon': {'dogdugu_sehir': 'Adana', 'yasadigi_sehir': 'İstanbul'}}"
      ]
     },
     "execution_count": 461,
     "metadata": {},
     "output_type": "execute_result"
    }
   ],
   "source": [
    "dict3 = {\n",
    "    'isim': 'Mehmet Can', \n",
    "    'yas': 26,\n",
    "    'lokasyon': {\n",
    "        'dogdugu_sehir': 'Adana',\n",
    "        'yasadigi_sehir': 'İstanbul'\n",
    "    }\n",
    "}\n",
    "dict3"
   ]
  },
  {
   "cell_type": "code",
   "execution_count": 463,
   "id": "683a15c9-32fd-4b13-a2c2-f4daffd22ea7",
   "metadata": {},
   "outputs": [],
   "source": [
    "#Yukarıda ki yazım tarzı en çok tercih edilen ve okunurluğu en kolaydır."
   ]
  },
  {
   "cell_type": "code",
   "execution_count": 474,
   "id": "aec51194-e9e3-4bc2-906c-2484da7dee61",
   "metadata": {},
   "outputs": [
    {
     "data": {
      "text/plain": [
       "26"
      ]
     },
     "execution_count": 474,
     "metadata": {},
     "output_type": "execute_result"
    }
   ],
   "source": [
    "dict2['yas']"
   ]
  },
  {
   "cell_type": "code",
   "execution_count": 484,
   "id": "680dab5e-d31b-452e-8d1e-b43d032d24a0",
   "metadata": {},
   "outputs": [
    {
     "data": {
      "text/plain": [
       "26"
      ]
     },
     "execution_count": 484,
     "metadata": {},
     "output_type": "execute_result"
    }
   ],
   "source": [
    "dict2.get('yas')"
   ]
  },
  {
   "cell_type": "code",
   "execution_count": 476,
   "id": "4094c3f7-2088-4164-a9dc-dea1d3bf5a10",
   "metadata": {},
   "outputs": [
    {
     "data": {
      "text/plain": [
       "{'dogdugu_sehir': 'Adana', 'yasadigi_sehir': 'İstanbul'}"
      ]
     },
     "execution_count": 476,
     "metadata": {},
     "output_type": "execute_result"
    }
   ],
   "source": [
    "dict3['lokasyon']"
   ]
  },
  {
   "cell_type": "code",
   "execution_count": 480,
   "id": "c6c8fd46-6fad-410e-8b1f-a9d4106c32bd",
   "metadata": {},
   "outputs": [
    {
     "data": {
      "text/plain": [
       "'İstanbul'"
      ]
     },
     "execution_count": 480,
     "metadata": {},
     "output_type": "execute_result"
    }
   ],
   "source": [
    "dict3['lokasyon']['yasadigi_sehir']"
   ]
  },
  {
   "cell_type": "code",
   "execution_count": 488,
   "id": "bd99625e-9a70-47ad-b41e-c4f2ffd353f1",
   "metadata": {},
   "outputs": [
    {
     "data": {
      "text/plain": [
       "'İstanbul'"
      ]
     },
     "execution_count": 488,
     "metadata": {},
     "output_type": "execute_result"
    }
   ],
   "source": [
    "dict3.get('lokasyon').get('yasadigi_sehir')"
   ]
  },
  {
   "cell_type": "code",
   "execution_count": 492,
   "id": "400e69af-0137-4803-a767-27a0569a6baf",
   "metadata": {},
   "outputs": [
    {
     "data": {
      "text/plain": [
       "dict_keys(['isim', 'yas', 'dogdugu_sehir', 'yasadigi_sehir'])"
      ]
     },
     "execution_count": 492,
     "metadata": {},
     "output_type": "execute_result"
    }
   ],
   "source": [
    "dict2.keys()"
   ]
  },
  {
   "cell_type": "code",
   "execution_count": 494,
   "id": "dc03a7c7-4379-4812-a261-8ed5e490f1a2",
   "metadata": {},
   "outputs": [
    {
     "data": {
      "text/plain": [
       "dict_values(['Mehmet Can', 26, 'Adana', 'İstanbul'])"
      ]
     },
     "execution_count": 494,
     "metadata": {},
     "output_type": "execute_result"
    }
   ],
   "source": [
    "dict2.values()"
   ]
  },
  {
   "cell_type": "code",
   "execution_count": 498,
   "id": "57374ff8-abc1-4692-88f6-489ced5b47aa",
   "metadata": {},
   "outputs": [
    {
     "data": {
      "text/plain": [
       "dict_items([('isim', 'Mehmet Can'), ('yas', 26), ('dogdugu_sehir', 'Adana'), ('yasadigi_sehir', 'İstanbul')])"
      ]
     },
     "execution_count": 498,
     "metadata": {},
     "output_type": "execute_result"
    }
   ],
   "source": [
    "dict2.items()"
   ]
  },
  {
   "cell_type": "code",
   "execution_count": 504,
   "id": "cf727e29-a9e5-45c3-88c5-6b46abbb4588",
   "metadata": {},
   "outputs": [
    {
     "name": "stdout",
     "output_type": "stream",
     "text": [
      "id: 1\n",
      "name: Leanne Graham\n",
      "username: Bret\n",
      "email: Sincere@april.biz\n",
      "address: {'street': 'Kulas Light', 'suite': 'Apt. 556', 'city': 'Gwenborough', 'zipcode': '92998-3874', 'geo': {'lat': '-37.3159', 'lng': '81.1496'}}\n",
      "phone: 1-770-736-8031 x56442\n",
      "website: hildegard.org\n",
      "company: {'name': 'Romaguera-Crona', 'catchPhrase': 'Multi-layered client-server neural-net', 'bs': 'harness real-time e-markets'}\n"
     ]
    }
   ],
   "source": [
    "#satırlar şeklinde göstermek neden önemli bir sunucumuz var ve bu sunucu bizim olmasın sunucu \n",
    "#açık kaynak bir sunucu size döndürelen anahtarları\n",
    "#ve anahtara karşılık gelen değer çiftlerini bilmiyorsunuz \n",
    "#çünkü bunları bilmenizi sağlayacak olan şey dökümantasyon \n",
    "#ve dökümantasyon size düzgün bir şekilde söylemezse kör uçuşu yapacaksınız\n",
    "#ve hangi tip anahtar değer çiftlerini döndürdüğünü bir öğrenmeniz lazım\n",
    "\n",
    "#Gerçek Dünya Senaryosu: API'dan Gelen Verileri İşlemek\n",
    "#Bir API’den JSON formatında gelen veriyi işlerken, hangi anahtarların döndüğünü ve karşılık gelen değerleri bilmeden çalışmak, adeta karanlıkta yürümeye benzer.\n",
    "\n",
    "#Örneğin, bir API’den dönen kullanıcı verisini incelemek istiyoruz:\n",
    "\n",
    "import requests\n",
    "\n",
    "response = requests.get(\"https://jsonplaceholder.typicode.com/users/1\")\n",
    "data = response.json()\n",
    "\n",
    "for key, value in data.items():\n",
    "    print(f\"{key}: {value}\")\n",
    "\n",
    "#Elde Edilen Çıktı:\n",
    "#id: 1\n",
    "#name: Leanne Graham\n",
    "#username: Bret\n",
    "#email: Sincere@april.biz\n",
    "#address: {'street': 'Kulas Light', 'suite': 'Apt. 556', 'city': 'Gwenborough', 'zipcode': '92998-3874', 'geo': {'lat': '-37.3159', 'lng': '81.1496'}}\n",
    "#phone: 1-770-736-8031 x56442\n",
    "#website: hildegard.org\n",
    "#company: {'name': 'Romaguera-Crona', 'catchPhrase': 'Multi-layered client-server neural-net', 'bs': 'harness real-time e-markets'}\n",
    "\n",
    "\n",
    "#Burada anahtarlar ve karşılık gelen veriler net bir şekilde görülebiliyor, \n",
    "#böylece API’nın ne döndürdüğünü anlama süreci kolaylaşıyor."
   ]
  },
  {
   "cell_type": "code",
   "execution_count": 506,
   "id": "b1fe8567-cd26-448c-af7c-8082e7b1f6f1",
   "metadata": {},
   "outputs": [],
   "source": [
    "#🚀 Özet: Neden dict.items() Kullanmalıyız?\n",
    "#✅ Verinin yapısını anlamak için: JSON veya API verilerini okurken hızlıca anlamamızı sağlar.\n",
    "#✅ Hata ayıklamak için: Bilmediğimiz bir API veya veri kaynağından gelen içeriği keşfetmek kolaylaşır.\n",
    "#✅ Dinamik işlemler yapmak için: Bilmediğimiz anahtarları tek tek elle yazmak yerine \n",
    "#dinamik olarak döngüyle işleyebiliriz.\n",
    "\n",
    "#Bu nedenle, özellikle açık kaynaklı bir sunucudan veri alıyorsanız \n",
    "#ve dökümantasyon eksikse, dict.items() ile veriyi satır satır incelemek büyük bir avantaj sağlar. 🚀"
   ]
  },
  {
   "cell_type": "markdown",
   "id": "39cdfce7-49e1-4975-b312-223c0a3a2679",
   "metadata": {},
   "source": [
    "PYTHON IF SORGULARI"
   ]
  },
  {
   "cell_type": "code",
   "execution_count": null,
   "id": "f7122266-3a9e-4d45-a029-ba24997c8970",
   "metadata": {},
   "outputs": [],
   "source": [
    "#KULLANIM SENARYOSU-1:"
   ]
  },
  {
   "cell_type": "code",
   "execution_count": null,
   "id": "351ddcd8-5d01-4079-8f8e-c7786c177700",
   "metadata": {},
   "outputs": [],
   "source": [
    "# if <koşul sağlanıyorsa>:\n",
    "#   <burada yazılanı yap>"
   ]
  },
  {
   "cell_type": "code",
   "execution_count": 15,
   "id": "fef1233e-32c5-41a8-95f0-d18bf5cfa234",
   "metadata": {},
   "outputs": [
    {
     "name": "stdout",
     "output_type": "stream",
     "text": [
      "Semsiyeni al!\n"
     ]
    }
   ],
   "source": [
    "hava_durumu = \"yagisli\"\n",
    "if hava_durumu == 'yagisli':\n",
    "    print(\"Semsiyeni al!\")"
   ]
  },
  {
   "cell_type": "code",
   "execution_count": null,
   "id": "fffa843f-4e77-41ff-b040-2590dd165286",
   "metadata": {},
   "outputs": [],
   "source": [
    "#KULLANIM SENARYOSU-2:"
   ]
  },
  {
   "cell_type": "code",
   "execution_count": null,
   "id": "c38257f3-7467-4fb8-8e02-e62f56124c41",
   "metadata": {},
   "outputs": [],
   "source": [
    "# if <koşul sağlanıyorsa>:\n",
    "#   <burada yazılanı yap>:\n",
    "# else:\n",
    "#   <burada yazılanı yap>"
   ]
  },
  {
   "cell_type": "code",
   "execution_count": 36,
   "id": "05cb68f8-dc11-4fec-9976-b4e20acf1f73",
   "metadata": {},
   "outputs": [
    {
     "name": "stdout",
     "output_type": "stream",
     "text": [
      "Sorun yok\n"
     ]
    }
   ],
   "source": [
    "hava_durumu = \"günesli\" \n",
    "if hava_durumu == \"karli\":\n",
    "    print(\"montunu al\")\n",
    "else:\n",
    "    print(\"Sorun yok\")"
   ]
  },
  {
   "cell_type": "code",
   "execution_count": null,
   "id": "b023d05c-79ae-4915-abe0-ece5b9106749",
   "metadata": {},
   "outputs": [],
   "source": [
    "#KULLANIM SENARYOSU-3:"
   ]
  },
  {
   "cell_type": "code",
   "execution_count": 91,
   "id": "e6d16bd9-db4a-4001-bf36-ccd5be311e06",
   "metadata": {},
   "outputs": [],
   "source": [
    "# if <koşul sağlanıyorsa>:\n",
    "#    <burada yazılanı yap>\n",
    "# elif <alternatif koşul sağlanıyorsa>:\n",
    "#       <burada yazılanı yap>\n",
    "# else:\n",
    "#       <burada yazılanı yap>\n"
   ]
  },
  {
   "cell_type": "code",
   "execution_count": 66,
   "id": "0b3d0646-f061-4427-b447-8d39b7a6cf07",
   "metadata": {},
   "outputs": [
    {
     "name": "stdout",
     "output_type": "stream",
     "text": [
      "çıplak gez\n"
     ]
    }
   ],
   "source": [
    "hava_durumu = \"karli\"\n",
    "if hava_durumu == \"ruzgarli\":\n",
    "    print(\"atkini al\") \n",
    "elif hava_durumu == \"günesli\":\n",
    "    print(\"tişört giy\")\n",
    "else:\n",
    "    print(\"çıplak gez\")"
   ]
  },
  {
   "cell_type": "code",
   "execution_count": 81,
   "id": "cc2cacff-8dd8-4f92-9147-c296257cbd2f",
   "metadata": {},
   "outputs": [
    {
     "name": "stdout",
     "output_type": "stream",
     "text": [
      "lütfen 1 yıl sonra başvurunuz..\n"
     ]
    }
   ],
   "source": [
    "yas = 18\n",
    "if yas > 18:\n",
    "    print(\"selam\")\n",
    "elif yas < 18:\n",
    "    print(\"mekana giriş yasaktır\")\n",
    "else:\n",
    "    print(\"lütfen 1 yıl sonra başvurunuz..\")\n"
   ]
  },
  {
   "cell_type": "code",
   "execution_count": 95,
   "id": "bdc7fe8a-1f68-420d-8e6b-d191dea73545",
   "metadata": {},
   "outputs": [
    {
     "name": "stdout",
     "output_type": "stream",
     "text": [
      "mevcut degil\n"
     ]
    }
   ],
   "source": [
    "liste = [\"a\", \"b\", \"c\"]\n",
    "hedef_harf = \"d\" \n",
    "if hedef_harf in liste:\n",
    "    print(\"buldum\") \n",
    "else:\n",
    "    print(\"mevcut degil\")"
   ]
  },
  {
   "cell_type": "code",
   "execution_count": 101,
   "id": "d871ca19-0d22-45b8-a4d3-0824d5072fdc",
   "metadata": {},
   "outputs": [
    {
     "name": "stdout",
     "output_type": "stream",
     "text": [
      "listeye ekledim\n",
      "Güncel liste['a', 'b', 'c', 'd']\n"
     ]
    }
   ],
   "source": [
    "liste = [\"a\", \"b\", \"c\"]\n",
    "hedef_harf = \"d\" \n",
    "if hedef_harf in liste:\n",
    "    print(\"buldum\") \n",
    "else:\n",
    "    liste.append(hedef_harf)\n",
    "    print(\"listeye ekledim\")\n",
    "    print(\"Güncel liste{}\".format(liste))"
   ]
  },
  {
   "cell_type": "code",
   "execution_count": 107,
   "id": "4aba7419-7bfb-4e91-ad84-f3ebb33e7a24",
   "metadata": {},
   "outputs": [
    {
     "name": "stdout",
     "output_type": "stream",
     "text": [
      "buldum ve harf ilk konumda \n"
     ]
    }
   ],
   "source": [
    "liste = [\"d\", \"a\", \"b\", \"c\", \"d\"]\n",
    "hedef_harf = \"d\" \n",
    "if (hedef_harf in liste) and (hedef_harf == liste[0]):\n",
    "    print(\"buldum ve harf ilk konumda \") \n",
    "elif hedef_harf in liste and hedef_harf != liste[0]:\n",
    "    print(\"buldum ama ilk konumda değil\")\n",
    "else:\n",
    "    liste.append(hedef_harf)\n",
    "    print(\"Güncel liste{}\".format(liste))"
   ]
  },
  {
   "cell_type": "code",
   "execution_count": null,
   "id": "42c466a9-6d9d-4329-a88f-b6aeacba8de6",
   "metadata": {},
   "outputs": [],
   "source": [
    "# Şimdi aşağıda ki örneği dikkatli bir şekilde inceleyelim."
   ]
  },
  {
   "cell_type": "code",
   "execution_count": 109,
   "id": "239eb260-6d1c-4d28-b317-3a9ce02a80b2",
   "metadata": {},
   "outputs": [
    {
     "name": "stdout",
     "output_type": "stream",
     "text": [
      "buldum ve harf ilk konumda \n"
     ]
    }
   ],
   "source": [
    "liste = [\"a\", \"b\", \"c\", \"d\"]\n",
    "hedef_harf = \"d\" \n",
    "if (hedef_harf in liste):\n",
    "    print(\"buldum ve harf ilk konumda \") \n",
    "elif hedef_harf in liste and hedef_harf != liste[0]:\n",
    "    print(\"buldum ama ilk konumda değil\")\n",
    "else:\n",
    "    liste.append(hedef_harf)\n",
    "    print(\"Güncel liste{}\".format(liste))"
   ]
  },
  {
   "cell_type": "code",
   "execution_count": null,
   "id": "1f0c4a36-47f7-4c56-a4f1-18ba93671fad",
   "metadata": {},
   "outputs": [],
   "source": [
    "# Python işlem yaparken öncelikli olarak en üst sırada ki durumları tüketmeye öncelik verir. \n",
    "# Hedef harf listenin içerisinde mi? İçerisinde. O zaman hemen aksiyonu alır ve çıkar. \n",
    "# İkinci, üçüncü şartlar (elif, else) var ise, onları sorgulamaz."
   ]
  },
  {
   "cell_type": "markdown",
   "id": "0b277533-108c-43f6-b91f-e572ed0d6b26",
   "metadata": {},
   "source": [
    "FOR DÖNGÜLERİ"
   ]
  },
  {
   "cell_type": "code",
   "execution_count": 112,
   "id": "0e1bccd6-1d27-4812-b1ca-e557ce18f9a7",
   "metadata": {},
   "outputs": [],
   "source": [
    "# Kullanım Yapısı\n",
    "# for <degisken> in <iterable>:\n",
    "#     <buraya yazılanı yap>"
   ]
  },
  {
   "cell_type": "code",
   "execution_count": 14,
   "id": "dc6d9292-9242-4ded-bf7c-086854556d5b",
   "metadata": {},
   "outputs": [
    {
     "name": "stdout",
     "output_type": "stream",
     "text": [
      "İsmail Aydemir\n",
      "Uygar Aydin\n",
      "Naz Yagcioglu\n",
      "Ferhat İbrik\n",
      "Ulas Acil\n",
      "Bilal Kurucay\n"
     ]
    }
   ],
   "source": [
    "yorum_birakanlar = [\"İsmail Aydemir\", \"Uygar Aydin\", \"Naz Yagcioglu\", \"Ferhat İbrik\", \"Ulas Acil\", \"Bilal Kurucay\"]\n",
    "for kullanici in yorum_birakanlar:\n",
    "    print (kullanici)"
   ]
  },
  {
   "cell_type": "code",
   "execution_count": 138,
   "id": "d95a2676-071f-4e3c-b79b-5ace28f8ee11",
   "metadata": {},
   "outputs": [
    {
     "name": "stdout",
     "output_type": "stream",
     "text": [
      "1 İsmail Aydemir\n",
      "2 Uygar Aydin\n",
      "3 Naz Yagcioglu\n",
      "4 Ferhat İbrik\n",
      "5 Ulas Acil\n",
      "6 Bilal Kurucay\n"
     ]
    }
   ],
   "source": [
    "kullanici_sayisi = 0\n",
    "for kullanici in yorum_birakanlar:\n",
    "    kullanici_sayisi = kullanici_sayisi + 1 \n",
    "    print(kullanici_sayisi, kullanici)"
   ]
  },
  {
   "cell_type": "code",
   "execution_count": 18,
   "id": "17318171-a581-4654-8000-56bf144dceb0",
   "metadata": {},
   "outputs": [
    {
     "name": "stdout",
     "output_type": "stream",
     "text": [
      "0 İsmail Aydemir\n",
      "1 Uygar Aydin\n",
      "2 Naz Yagcioglu\n",
      "3 Ferhat İbrik\n",
      "4 Ulas Acil\n",
      "5 Bilal Kurucay\n"
     ]
    }
   ],
   "source": [
    "# kullanici_sayisi = kullanici_sayisi + 1 > Bu yazıyı nereye koyduğumuzun önemi var.\n",
    "# Eğer bunu aşağıda ki örnekte ki gibi cut edip print ifadesinin aşağısına yazmış olsaydık, \n",
    "# Kullanıcı sayısını öncelikle print ettiği için 0 ile başlayacaktı daha sonra 1 arttıracaktı.\n",
    "\n",
    "# ÖRNEK: \n",
    "kullanici_sayisi = 0\n",
    "for kullanici in yorum_birakanlar:\n",
    "     print(kullanici_sayisi, kullanici)\n",
    "         kullanici_sayisi = kullanici_sayisi + 1"
   ]
  },
  {
   "cell_type": "code",
   "execution_count": 159,
   "id": "4412eb30-d2da-40fa-8759-b9da69dea5da",
   "metadata": {},
   "outputs": [
    {
     "data": {
      "text/plain": [
       "['İsmail', 'Aydemir']"
      ]
     },
     "execution_count": 159,
     "metadata": {},
     "output_type": "execute_result"
    }
   ],
   "source": [
    "yorum_birakanlar[0].split()"
   ]
  },
  {
   "cell_type": "code",
   "execution_count": 161,
   "id": "8d2b67be-abc5-43ce-b4f6-097d9f1eea8d",
   "metadata": {},
   "outputs": [
    {
     "data": {
      "text/plain": [
       "'İsmail'"
      ]
     },
     "execution_count": 161,
     "metadata": {},
     "output_type": "execute_result"
    }
   ],
   "source": [
    "yorum_birakanlar[0].split()[0]"
   ]
  },
  {
   "cell_type": "code",
   "execution_count": 187,
   "id": "8d9b4c6b-4424-40e5-b259-9e12288ca8c0",
   "metadata": {},
   "outputs": [
    {
     "data": {
      "text/plain": [
       "'Aydemir'"
      ]
     },
     "execution_count": 187,
     "metadata": {},
     "output_type": "execute_result"
    }
   ],
   "source": [
    "yorum_birakanlar[0].split()[1]"
   ]
  },
  {
   "cell_type": "code",
   "execution_count": null,
   "id": "10464b2d-f246-480f-aa9f-96f61e43b430",
   "metadata": {},
   "outputs": [],
   "source": [
    "# Aşağıda ki kullanı şekli bir yöntemdir fakat çok tavsiye edilmeyen bir yöntemdir.\n",
    "# Çünkü ikili atama yapıyoruz. \n",
    "# Okunaklılık açısından çok tercih edilmez."
   ]
  },
  {
   "cell_type": "code",
   "execution_count": 179,
   "id": "bfbe2da3-2374-4fd5-9bc7-71c8a4a796ec",
   "metadata": {},
   "outputs": [],
   "source": [
    "ad, soyad = yorum_birakanlar[0].split()[0], yorum_birakanlar[0].split()[1]"
   ]
  },
  {
   "cell_type": "code",
   "execution_count": 181,
   "id": "3d5455d8-55b7-490a-af96-9484556e7143",
   "metadata": {},
   "outputs": [],
   "source": [
    "# Daha okunaklı bir yöntem için:"
   ]
  },
  {
   "cell_type": "code",
   "execution_count": null,
   "id": "eb873267-f726-4db5-930a-4ce28fe0b321",
   "metadata": {},
   "outputs": [],
   "source": [
    "#1. İlk Örnekte (yorum_birakanlar[0] Kullanımı)\n",
    "\n",
    "#Burada sadece ilk kullanıcıyı (yorum_birakanlar[0]) alıyorsunuz.\n",
    "#split() fonksiyonu ile ilk kullanıcının adını ve soyadını ayırıyorsunuz.\n",
    "#print(ad, soyad) ile yalnızca ilk kullanıcının adını ve soyadını yazdırıyorsunuz.\n",
    "#Tek bir kişi için işlem yapılıyor."
   ]
  },
  {
   "cell_type": "code",
   "execution_count": 189,
   "id": "dc835c79-a980-4b08-8cac-8df16964ac7d",
   "metadata": {},
   "outputs": [
    {
     "name": "stdout",
     "output_type": "stream",
     "text": [
      "İsmail Aydemir\n"
     ]
    }
   ],
   "source": [
    "ad = yorum_birakanlar[0].split()[0]\n",
    "soyad = yorum_birakanlar[0].split()[1]\n",
    "print(ad,soyad)\n"
   ]
  },
  {
   "cell_type": "code",
   "execution_count": 191,
   "id": "1b55c404-67b3-493d-8c96-e7b933f3ef1f",
   "metadata": {},
   "outputs": [
    {
     "name": "stdout",
     "output_type": "stream",
     "text": [
      "İsmail\n",
      "Aydemir\n"
     ]
    }
   ],
   "source": [
    "ad = yorum_birakanlar[0].split()[0]\n",
    "soyad = yorum_birakanlar[0].split()[1]\n",
    "print(ad)\n",
    "print (soyad)"
   ]
  },
  {
   "cell_type": "code",
   "execution_count": null,
   "id": "dcdbf502-52db-4125-907f-19dcef683105",
   "metadata": {},
   "outputs": [],
   "source": [
    "# kullanici_sayisi = 0\n",
    "# for kullanici in yorum_birakanlar:\n",
    "#     kullanici_sayisi = kullanici_sayisi + 1 \n",
    "#     print(kullanici_sayisi, kullanici)"
   ]
  },
  {
   "cell_type": "code",
   "execution_count": null,
   "id": "d53fff69-71a0-4eeb-9a36-876305393ed4",
   "metadata": {},
   "outputs": [],
   "source": [
    "#2. Döngüde (kullanici Kullanımı)\n",
    "\n",
    "#Burada tüm kullanıcılar üzerinde döngü (for) çalıştırılıyor.\n",
    "#Her döngü adımında kullanici, yorum_birakanlar listesindeki bir eleman oluyor.\n",
    "#split() fonksiyonu her kullanıcı için çalıştırılıyor ve ad/soyad alınıyor.\n",
    "#print(...) ile her kullanıcının adı ve soyadı numarasıyla birlikte ekrana yazdırılıyor.\n"
   ]
  },
  {
   "cell_type": "code",
   "execution_count": 201,
   "id": "2326c695-6795-465f-8561-613f5b2bc8cc",
   "metadata": {},
   "outputs": [
    {
     "name": "stdout",
     "output_type": "stream",
     "text": [
      "1. Kullanicinin Adi İsmail ve Soyadi Aydemir\n",
      "2. Kullanicinin Adi Uygar ve Soyadi Aydin\n",
      "3. Kullanicinin Adi Naz ve Soyadi Yagcioglu\n",
      "4. Kullanicinin Adi Ferhat ve Soyadi İbrik\n",
      "5. Kullanicinin Adi Ulas ve Soyadi Acil\n",
      "6. Kullanicinin Adi Bilal ve Soyadi Kurucay\n"
     ]
    }
   ],
   "source": [
    "kullanici_sayisi = 0\n",
    "for kullanici in yorum_birakanlar:\n",
    "    kullanici_sayisi = kullanici_sayisi + 1 \n",
    "    ad, soyad = kullanici.split()[0], kullanici.split()[1]\n",
    "    print('{0}. Kullanicinin Adi {1} ve Soyadi {2}'.format(kullanici_sayisi, ad, soyad))"
   ]
  },
  {
   "cell_type": "code",
   "execution_count": 68,
   "id": "b7c34c13-d526-40a7-bcb8-2905b3aec349",
   "metadata": {},
   "outputs": [
    {
     "name": "stdout",
     "output_type": "stream",
     "text": [
      "1. Kullanıcının Adı İsmail, ve Soyadı Aydemir\n",
      "2. Kullanıcının Adı Uygar, ve Soyadı Aydin\n",
      "3. Kullanıcının Adı Naz, ve Soyadı Yagcioglu\n",
      "1. Moderatorun Adı Ferhat, ve Soyadı İbrik\n",
      "4. Kullanıcının Adı Ulas, ve Soyadı Acil\n",
      "5. Kullanıcının Adı Bilal, ve Soyadı Kurucay\n"
     ]
    }
   ],
   "source": [
    "yorum_birakanlar = [\"İsmail Aydemir\", \"Uygar Aydin\", \"Naz Yagcioglu\", \"Ferhat İbrik\", \"Ulas Acil\", \"Bilal Kurucay\"]\n",
    "\n",
    "moderator = \"Ferhat İbrik\"\n",
    "\n",
    "kullanici_sayisi = 0 \n",
    "moderator_sayisi = 0 \n",
    "\n",
    "\n",
    "for kullanici in yorum_birakanlar:\n",
    "    ad, soyad = kullanici.split()[0], kullanici.split()[1]\n",
    "\n",
    "    if (kullanici == moderator):\n",
    "        moderator_sayisi += 1  #moderator_sayisi = moderator_sayisi + 1 \n",
    "        print('{0}. Moderatorun Adı {1}, ve Soyadı {2}'.format(moderator_sayisi, ad, soyad))\n",
    "    else:  \n",
    "        kullanici_sayisi += 1\n",
    "        print('{0}. Kullanıcının Adı {1}, ve Soyadı {2}'.format(kullanici_sayisi, ad, soyad))\n"
   ]
  },
  {
   "cell_type": "markdown",
   "id": "74bbff1d-df60-46d0-ba1d-17c4939ac50e",
   "metadata": {},
   "source": []
  },
  {
   "cell_type": "markdown",
   "id": "0b8c2cc8-c32a-4714-92b4-8ac6e03ee393",
   "metadata": {},
   "source": [
    "DİĞER ITERABLE DÖNGÜLERDE FOR DÖNGÜLERİ"
   ]
  },
  {
   "cell_type": "code",
   "execution_count": 83,
   "id": "19c9c3f8-49fa-41d7-9a50-d674fe8d65d6",
   "metadata": {},
   "outputs": [
    {
     "name": "stdout",
     "output_type": "stream",
     "text": [
      "1\n",
      "3\n",
      "5\n",
      "7\n"
     ]
    }
   ],
   "source": [
    "tup1 = (1, 3, 5, 7)\n",
    "\n",
    "for sayi in tup1:\n",
    "    print(sayi)"
   ]
  },
  {
   "cell_type": "code",
   "execution_count": 85,
   "id": "072b2122-bf83-4f2e-9437-26b1ba771e4d",
   "metadata": {},
   "outputs": [
    {
     "name": "stdout",
     "output_type": "stream",
     "text": [
      "1\n",
      "3\n"
     ]
    }
   ],
   "source": [
    "liste = [[1,2],[3,4]]\n",
    "for x,y in liste:\n",
    "    print(x)"
   ]
  },
  {
   "cell_type": "code",
   "execution_count": 97,
   "id": "23219110-eb51-48fd-9f3e-a1170c576259",
   "metadata": {},
   "outputs": [],
   "source": [
    "# liste = [[1,2,3],[3,4,5]]\n",
    "# for x,y in liste:\n",
    "#    print(x)\n",
    "\n",
    "# ---------------------------------------------------------------------------\n",
    "# ValueError                                Traceback (most recent call last)\n",
    "# Cell In[87], line 2\n",
    "#      1 liste = [[1,2,3],[3,4,5]]\n",
    "# ----> 2 for x,y in liste:\n",
    "#      3     print(x)\n",
    "\n",
    "# ValueError: too many values to unpack (expected 2)\n",
    "\n",
    "\n",
    "# Hata aldık çünkü listenin içerisinde x ve y gibi 2 eleman almak istiyorsak, \n",
    "# aldığımız eleman sayısı içeriğinde ki objelerle eşit olmak zorunda.\n",
    "# Üç haneli bir alt liste var ise burada 3 tane değişken olmak zorunda."
   ]
  },
  {
   "cell_type": "code",
   "execution_count": 101,
   "id": "c3b73b81-3037-4145-9bdb-34e9e3698f2d",
   "metadata": {},
   "outputs": [
    {
     "name": "stdout",
     "output_type": "stream",
     "text": [
      "1 2\n",
      "3 4\n",
      "5 6\n"
     ]
    }
   ],
   "source": [
    "liste = [[1,2,], [3,4], [5,6]]\n",
    "for x,y in liste:\n",
    "    print(x,y)"
   ]
  },
  {
   "cell_type": "code",
   "execution_count": 103,
   "id": "a9dae5e7-b063-4a8b-b5ab-74079dbd944a",
   "metadata": {},
   "outputs": [
    {
     "name": "stdout",
     "output_type": "stream",
     "text": [
      "2\n",
      "12\n",
      "30\n"
     ]
    }
   ],
   "source": [
    "liste = [[1,2], [3,4], [5,6]]\n",
    "for x,y in liste:\n",
    "    print(x*y)"
   ]
  },
  {
   "cell_type": "code",
   "execution_count": 112,
   "id": "a4db1955-e8d4-40f2-96c3-1468d135befc",
   "metadata": {},
   "outputs": [
    {
     "data": {
      "text/plain": [
       "{'ad': 'Mehmet Can', 'soyad': 'Yönder'}"
      ]
     },
     "execution_count": 112,
     "metadata": {},
     "output_type": "execute_result"
    }
   ],
   "source": [
    "kullanici1 = {\n",
    "    \"ad\":\"Mehmet Can\",\n",
    "    \"soyad\":\"Yönder\"\n",
    "}\n",
    "kullanici1"
   ]
  },
  {
   "cell_type": "code",
   "execution_count": 136,
   "id": "2f15a55f-4ddd-46f1-b76a-ce1452e4a121",
   "metadata": {},
   "outputs": [
    {
     "name": "stdout",
     "output_type": "stream",
     "text": [
      "dict_items([('ad', 'Mehmet Can'), ('soyad', 'Yönder')])\n",
      "dict_keys(['ad', 'soyad'])\n"
     ]
    }
   ],
   "source": [
    "kullanici1 = {\n",
    "    \"ad\":\"Mehmet Can\",\n",
    "    \"soyad\":\"Yönder\"\n",
    "}\n",
    "print(kullanici1.items())\n",
    "print(kullanici1.keys())"
   ]
  },
  {
   "cell_type": "code",
   "execution_count": 22,
   "id": "a3c92a1c-1521-48ed-a41a-efc01afdf7f3",
   "metadata": {},
   "outputs": [
    {
     "data": {
      "text/plain": [
       "dict_keys(['ad', 'soyad'])"
      ]
     },
     "execution_count": 22,
     "metadata": {},
     "output_type": "execute_result"
    }
   ],
   "source": [
    "kullanici1 = {\n",
    "    \"ad\":\"Mehmet Can\",\n",
    "    \"soyad\":\"Yönder\"\n",
    "}\n",
    "kullanici1.keys()"
   ]
  },
  {
   "cell_type": "code",
   "execution_count": 116,
   "id": "43c86901-af12-4030-ab40-6016d8f24d44",
   "metadata": {},
   "outputs": [
    {
     "data": {
      "text/plain": [
       "dict_values(['Mehmet Can', 'Yönder'])"
      ]
     },
     "execution_count": 116,
     "metadata": {},
     "output_type": "execute_result"
    }
   ],
   "source": [
    "kullanici1 = {\n",
    "    \"ad\":\"Mehmet Can\",\n",
    "    \"soyad\":\"Yönder\"\n",
    "}\n",
    "kullanici1.values()"
   ]
  },
  {
   "cell_type": "code",
   "execution_count": 24,
   "id": "8ea85f56-3039-485e-a3c5-56e29a0d1df7",
   "metadata": {},
   "outputs": [
    {
     "name": "stdout",
     "output_type": "stream",
     "text": [
      "key: ad \tvalue: Mehmet Can\n",
      "key: soyad \tvalue: Yönder\n"
     ]
    }
   ],
   "source": [
    "for k, v in kullanici1.items():\n",
    "    print(\"key: {} \\tvalue: {}\".format(k, v))"
   ]
  },
  {
   "cell_type": "code",
   "execution_count": 134,
   "id": "97b901c1-9298-43be-9e10-5a110488ef89",
   "metadata": {},
   "outputs": [
    {
     "name": "stdout",
     "output_type": "stream",
     "text": [
      "key: ad\n",
      "key: soyad\n"
     ]
    }
   ],
   "source": [
    "for k in kullanici1.keys():\n",
    "    print(\"key: {}\".format(k))"
   ]
  },
  {
   "cell_type": "markdown",
   "id": "0a3205d6-9785-4340-a631-1d86223c048a",
   "metadata": {},
   "source": []
  },
  {
   "cell_type": "markdown",
   "id": "967bdc53-4d48-4aa8-b409-55816c1351d7",
   "metadata": {},
   "source": [
    "# **While Döngüleri** "
   ]
  },
  {
   "cell_type": "code",
   "execution_count": 149,
   "id": "afc61359-cd33-4da5-abf3-b27a2a63fe72",
   "metadata": {},
   "outputs": [],
   "source": [
    "# While döngüsünde elif kullanılmıyor fakat else yapısı kullanabiliyoruz."
   ]
  },
  {
   "cell_type": "code",
   "execution_count": null,
   "id": "3c0b9a38-c288-4699-a5ce-36865105f540",
   "metadata": {},
   "outputs": [],
   "source": []
  },
  {
   "cell_type": "code",
   "execution_count": null,
   "id": "44b5816b-58d3-475e-88f8-ea992f19369e",
   "metadata": {},
   "outputs": [],
   "source": [
    "# while x < 10:\n",
    "#    print(\"{} değeri 10'dan küçüktür\".format(x))\n",
    "\n",
    "\n",
    "#Not: Eğer yukarıda ki gibi kodumuzu çalıştırırsak, bu kod sonsuz döngüye girer. \n",
    "#Çünkü x değişkeni hiçbir zaman artmıyor, yani hep 0 olarak kalıyor.\n",
    "\n",
    "#Kod şu şekilde çalışır:\n",
    "\n",
    "# x = 0 olarak başlar.\n",
    "# while x < 10: koşulu her zaman True olur (çünkü x değişmiyor).\n",
    "# \"0 değeri 10'dan küçüktür\" çıktısını sürekli olarak ekrana yazdırır.\n",
    "# x hiç değişmediği için sonsuz döngü oluşur.\n"
   ]
  },
  {
   "cell_type": "code",
   "execution_count": null,
   "id": "32b5e460-aaa3-475e-80d4-e4bc6ed0c83e",
   "metadata": {},
   "outputs": [],
   "source": []
  },
  {
   "cell_type": "code",
   "execution_count": null,
   "id": "6965c881-8502-442c-ac50-338e82d3aa22",
   "metadata": {},
   "outputs": [],
   "source": [
    "# Kullanım Yapısı\n",
    "# while <şart doğruyken>:\n",
    "#   <burada yazılanı yap>"
   ]
  },
  {
   "cell_type": "code",
   "execution_count": 170,
   "id": "9e61d8f8-5e0c-4bd7-a4f0-f5758ed1860e",
   "metadata": {},
   "outputs": [
    {
     "name": "stdout",
     "output_type": "stream",
     "text": [
      " 0 değeri 10'dan küçüktür\n",
      " 1 değeri 10'dan küçüktür\n",
      " 2 değeri 10'dan küçüktür\n",
      " 3 değeri 10'dan küçüktür\n",
      " 4 değeri 10'dan küçüktür\n",
      " 5 değeri 10'dan küçüktür\n",
      " 6 değeri 10'dan küçüktür\n",
      " 7 değeri 10'dan küçüktür\n",
      " 8 değeri 10'dan küçüktür\n",
      " 9 değeri 10'dan küçüktür\n"
     ]
    }
   ],
   "source": [
    "x = 0 \n",
    "while x < 10:\n",
    "    print(\" {} değeri 10'dan küçüktür\".format(x))\n",
    "    x += 1 "
   ]
  },
  {
   "cell_type": "code",
   "execution_count": null,
   "id": "d84947b3-f4cb-4895-8d6f-1fb2023fd2d0",
   "metadata": {},
   "outputs": [],
   "source": [
    "# Kullanım Yapısı \n",
    "# while <şart doğruyken>\n",
    "#   <burada yazılanı yap>\n",
    "# else:\n",
    "#    <burada yazılanı yap>\n",
    "\n",
    "\n"
   ]
  },
  {
   "cell_type": "code",
   "execution_count": 196,
   "id": "739cdbe0-b9e7-4380-b76e-d4cc9765a859",
   "metadata": {},
   "outputs": [
    {
     "name": "stdout",
     "output_type": "stream",
     "text": [
      " 0 değeri 10'dan küçüktür.\n",
      " 1 değeri 10'dan küçüktür.\n",
      " 2 değeri 10'dan küçüktür.\n",
      " 3 değeri 10'dan küçüktür.\n",
      " 4 değeri 10'dan küçüktür.\n",
      " 5 değeri 10'dan küçüktür.\n",
      " 6 değeri 10'dan küçüktür.\n",
      " 7 değeri 10'dan küçüktür.\n",
      " 8 değeri 10'dan küçüktür.\n",
      " 9 değeri 10'dan küçüktür.\n",
      "10 değeri 10'dan küçük değildir\n"
     ]
    }
   ],
   "source": [
    "x = 0\n",
    "while x < 10:\n",
    "    print(\" {} değeri 10'dan küçüktür.\".format(x))\n",
    "    x +=1\n",
    "else:\n",
    "    print(\"{} değeri 10'dan küçük değildir\".format(x))"
   ]
  },
  {
   "cell_type": "code",
   "execution_count": 20,
   "id": "518b8c08-1ece-4661-8ece-3e2cadcbdb06",
   "metadata": {},
   "outputs": [
    {
     "name": "stdout",
     "output_type": "stream",
     "text": [
      "6\n",
      "30\n",
      "120\n",
      "360\n",
      "720\n",
      "720\n"
     ]
    }
   ],
   "source": [
    "sayi = 6\n",
    "sonuc = 1\n",
    "while sayi > 0:\n",
    "    sonuc = sonuc * sayi \n",
    "    sayi -= 1  \n",
    "    print(sonuc)\n",
    "    \n",
    "###########################################################################################\n",
    "# Çalışma Adımları ve Print İşlemi                                                        #\n",
    "#------------------------------------------------------------------------------           #                                                                                         #\n",
    "# Döngü Turu   |  sayi  |  sonuc = sonuc * sayi  |  sayi -= 1  |  print(sonuc) Çıktısı    #\n",
    "# ------------------------------------------------------------------------------          #\n",
    "# 1. Tur       |   6    |  1 * 6 = 6             |    5        |   6                      #\n",
    "# 2. Tur       |   5    |  6 * 5 = 30            |    4        |   30                     #\n",
    "# 3. Tur       |   4    |  30 * 4 = 120          |    3        |   120                    #\n",
    "# 4. Tur       |   3    |  120 * 3 = 360         |    2        |   360                    #\n",
    "# 5. Tur       |   2    |  360 * 2 = 720         |    1        |   720                    # \n",
    "# 6. Tur       |   1    |  720 * 1 = 720         |    0        |   720                    #\n",
    "# Döngü Biter  |   0    | while sağlanmadığı için çıkılır | -  |  -                       #\n",
    "###########################################################################################\n"
   ]
  },
  {
   "cell_type": "markdown",
   "id": "ecb8c8f0-137b-41cd-8ce7-46538f0cb6eb",
   "metadata": {},
   "source": [
    "# **RANGE**"
   ]
  },
  {
   "cell_type": "code",
   "execution_count": 41,
   "id": "a9dc03b5-3790-4b62-a2e8-e31bd2e61615",
   "metadata": {},
   "outputs": [
    {
     "data": {
      "text/plain": [
       "range(0, 10)"
      ]
     },
     "execution_count": 41,
     "metadata": {},
     "output_type": "execute_result"
    }
   ],
   "source": [
    "range(10)"
   ]
  },
  {
   "cell_type": "code",
   "execution_count": null,
   "id": "5dc5ce8f-5f56-45c5-b805-f2a89b277da1",
   "metadata": {},
   "outputs": [],
   "source": [
    "# Şunu unutmayalım, indexlemelerde dilimleme de (slicing) şöyle bir komutumuz vardı > [start:end] \n",
    "# start kısmı ; dahil (inclusive) \n",
    "# end kısmı ;   hariç (exclusive) şeklindeydi.\n",
    "# range komutunda da aynı mantık hakim. 0'dan 10'a kadar gidip 10'u eklemeyecektir."
   ]
  },
  {
   "cell_type": "code",
   "execution_count": 47,
   "id": "0638a355-9884-4547-8a6c-8b85af99c57d",
   "metadata": {},
   "outputs": [
    {
     "data": {
      "text/plain": [
       "range"
      ]
     },
     "execution_count": 47,
     "metadata": {},
     "output_type": "execute_result"
    }
   ],
   "source": [
    "type(range(10))\n"
   ]
  },
  {
   "cell_type": "code",
   "execution_count": 49,
   "id": "fa83fb96-f3c5-45c4-8cd2-886e9c7787c3",
   "metadata": {},
   "outputs": [
    {
     "data": {
      "text/plain": [
       "list"
      ]
     },
     "execution_count": 49,
     "metadata": {},
     "output_type": "execute_result"
    }
   ],
   "source": [
    "liste = [1,2,3]\n",
    "type(liste)"
   ]
  },
  {
   "cell_type": "code",
   "execution_count": 53,
   "id": "713507bb-e665-47bb-b85d-57f40239eca0",
   "metadata": {},
   "outputs": [
    {
     "data": {
      "text/plain": [
       "[0, 1, 2, 3, 4, 5, 6, 7, 8, 9]"
      ]
     },
     "execution_count": 53,
     "metadata": {},
     "output_type": "execute_result"
    }
   ],
   "source": [
    "list(range(10))"
   ]
  },
  {
   "cell_type": "code",
   "execution_count": 57,
   "id": "0f80e20b-f124-4086-b4d3-34dc738c359c",
   "metadata": {},
   "outputs": [],
   "source": [
    "# Daha teknik, daha güzel bir yazım tipi için:\n",
    "\n",
    "# Fakat kodumuzun herkes tarafından anlaşılmasını istiyorsak,\n",
    "# yukarıda ki yazım türü daha fazla ipucu verecektir. > list(range(10))"
   ]
  },
  {
   "cell_type": "code",
   "execution_count": 59,
   "id": "706ea274-7c74-4d4e-b797-a19f1b5c6ee4",
   "metadata": {},
   "outputs": [
    {
     "data": {
      "text/plain": [
       "[0, 1, 2, 3, 4, 5, 6, 7, 8, 9]"
      ]
     },
     "execution_count": 59,
     "metadata": {},
     "output_type": "execute_result"
    }
   ],
   "source": [
    "[*range(10)]"
   ]
  },
  {
   "cell_type": "code",
   "execution_count": 63,
   "id": "7ec9be19-b1fb-4d51-869e-2bdbaed9be70",
   "metadata": {},
   "outputs": [
    {
     "data": {
      "text/plain": [
       "[2, 4, 6]"
      ]
     },
     "execution_count": 63,
     "metadata": {},
     "output_type": "execute_result"
    }
   ],
   "source": [
    "[*range(2,7,2)]"
   ]
  },
  {
   "cell_type": "code",
   "execution_count": null,
   "id": "82e63a51-554c-4f7a-b037-7ce86862f429",
   "metadata": {},
   "outputs": [],
   "source": [
    "# Hemen yukarıda ki 3. parametre de atlama parametresi. 2'den 7'ye kadar 2-2 atlamayı sağlar."
   ]
  },
  {
   "cell_type": "code",
   "execution_count": 65,
   "id": "0faab40c-6033-453d-ba9d-4928f7fee86b",
   "metadata": {},
   "outputs": [
    {
     "name": "stdout",
     "output_type": "stream",
     "text": [
      "0\n",
      "1\n",
      "2\n",
      "3\n",
      "4\n",
      "5\n",
      "6\n",
      "7\n",
      "8\n",
      "9\n"
     ]
    }
   ],
   "source": [
    "for sayi in range(10):\n",
    "    print(sayi)"
   ]
  },
  {
   "cell_type": "code",
   "execution_count": 71,
   "id": "aa423a03-7ed9-4f1d-a70f-5cd1a14dba3b",
   "metadata": {},
   "outputs": [
    {
     "name": "stdout",
     "output_type": "stream",
     "text": [
      "6\n",
      "7\n",
      "8\n",
      "9\n"
     ]
    }
   ],
   "source": [
    "for sayi in range(10):\n",
    "    if sayi > 5:  \n",
    "        print(sayi)"
   ]
  },
  {
   "cell_type": "markdown",
   "id": "96f3d334-52a7-47cf-a410-801eaeb4d983",
   "metadata": {},
   "source": [
    "# **enumerate**"
   ]
  },
  {
   "cell_type": "code",
   "execution_count": 74,
   "id": "e74cc58d-d818-465d-9cc5-6bfaa6139467",
   "metadata": {},
   "outputs": [
    {
     "name": "stdout",
     "output_type": "stream",
     "text": [
      "a\n",
      "b\n",
      "c\n",
      "d\n",
      "e\n"
     ]
    }
   ],
   "source": [
    "harfler = ['a', 'b', 'c', 'd', 'e']\n",
    "for harf in harfler:\n",
    "    print(harf)"
   ]
  },
  {
   "cell_type": "code",
   "execution_count": 84,
   "id": "2e71504d-ad1e-4ca6-aeae-48f45b8ccf3e",
   "metadata": {},
   "outputs": [
    {
     "name": "stdout",
     "output_type": "stream",
     "text": [
      "1. Kullanicinin Adi İsmail ve Soyadi Aydemir\n",
      "2. Kullanicinin Adi Uygar ve Soyadi Aydin\n",
      "3. Kullanicinin Adi Naz ve Soyadi Yagcioglu\n",
      "4. Kullanicinin Adi Ferhat ve Soyadi İbrik\n",
      "5. Kullanicinin Adi Ulas ve Soyadi Acil\n",
      "6. Kullanicinin Adi Bilal ve Soyadi Kurucay\n"
     ]
    }
   ],
   "source": [
    "#Not:\n",
    "# Aşağıda ki örnekte başlangıçta kullanıcı sayısını 0 olarak tanımladık.\n",
    "#Daha sonra, yorum bırakanlar listesindeki her bir kullanıcıyı döngü içinde tek tek ele alarak,\n",
    "#kullanıcı sayısını her tekrarda (iteration) 1 artırdık.\n",
    "#ve bunu ekrana yazdırarak nasıl değiştiğini gözlemledik.\n",
    "\n",
    "#Bu işlem sayesinde:\n",
    "\n",
    "#Yorum bırakan kullanıcı isimlerine eriştik.\n",
    "#Her bir kullanıcıya karşılık gelen sıralı sayıya (index) ulaştık.\n",
    "#Ancak, bu işlemi manuel olarak yapmak yerine,\n",
    "#\"enumerate\" fonksiyonu ile daha pratik bir şekilde gerçekleştirebiliriz.\n",
    "#\"enumerate\", liste üzerinde dönerken hem elemanın kendisini,\n",
    "#hem de o elemanın indeksini (0,1,2,3…) bize doğrudan verir. \n",
    "#Böylece, ekstra bir değişken tanımlamadan hem sırayı hem de içeriği kolayca kullanabiliriz\n",
    "\n",
    "\n",
    "\n",
    "yorum_birakanlar = [\"İsmail Aydemir\", \"Uygar Aydin\", \"Naz Yagcioglu\", \"Ferhat İbrik\", \"Ulas Acil\", \"Bilal Kurucay\"]\n",
    "\n",
    "kullanici_sayisi = 0\n",
    "for kullanici in yorum_birakanlar:\n",
    "    kullanici_sayisi = kullanici_sayisi + 1 \n",
    "    ad, soyad = kullanici.split()[0], kullanici.split()[1]\n",
    "    print('{0}. Kullanicinin Adi {1} ve Soyadi {2}'.format(kullanici_sayisi, ad, soyad))\n",
    "    \n",
    "# Şimdi yukarıda ki örnekte olduğu gibi bu işlemi manuel olarak yapmak yerine,\n",
    "#\"enumerate\" fonksiyonu ile daha pratik bir şekilde gerçekleştirelim. \n"
   ]
  },
  {
   "cell_type": "code",
   "execution_count": 92,
   "id": "095d2891-101b-47cb-81be-1df291d63e4d",
   "metadata": {},
   "outputs": [
    {
     "name": "stdout",
     "output_type": "stream",
     "text": [
      "a\n",
      "b\n",
      "c\n",
      "d\n",
      "e\n"
     ]
    }
   ],
   "source": [
    "harfler = [\"a\", \"b\", \"c\", \"d\", \"e\"]\n",
    "for harf in harfler:\n",
    "    print(harf)"
   ]
  },
  {
   "cell_type": "code",
   "execution_count": 108,
   "id": "0b263f68-e930-4a53-a23b-4b95edf9dc23",
   "metadata": {},
   "outputs": [
    {
     "name": "stdout",
     "output_type": "stream",
     "text": [
      "(0, 'a')\n",
      "(1, 'b')\n",
      "(2, 'c')\n",
      "(3, 'd')\n",
      "(4, 'e')\n"
     ]
    }
   ],
   "source": [
    "# index ile gösterimi \n",
    "\n",
    "harfler = [\"a\", \"b\", \"c\", \"d\", \"e\"]\n",
    "for harf in enumerate(harfler):\n",
    "    print(harf)"
   ]
  },
  {
   "cell_type": "code",
   "execution_count": 112,
   "id": "eca1953f-5673-434f-be0e-508263e53f47",
   "metadata": {},
   "outputs": [
    {
     "name": "stdout",
     "output_type": "stream",
     "text": [
      "0\n",
      "1\n",
      "2\n",
      "3\n",
      "4\n"
     ]
    }
   ],
   "source": [
    "#sadece indexleri print ettik.\n",
    "for index, harf in enumerate(harfler):\n",
    "    print(index)"
   ]
  },
  {
   "cell_type": "code",
   "execution_count": 114,
   "id": "85d9a27b-6cf8-4e2d-be31-fb148eb907d7",
   "metadata": {},
   "outputs": [
    {
     "name": "stdout",
     "output_type": "stream",
     "text": [
      "1\n",
      "2\n",
      "3\n",
      "4\n",
      "5\n"
     ]
    }
   ],
   "source": [
    "for index, harf in enumerate(harfler):\n",
    "    print(index+1)"
   ]
  },
  {
   "cell_type": "code",
   "execution_count": 116,
   "id": "3125f99e-d16f-4f93-9ff7-91d75fb09fa1",
   "metadata": {},
   "outputs": [
    {
     "name": "stdout",
     "output_type": "stream",
     "text": [
      "1 a\n",
      "2 b\n",
      "3 c\n",
      "4 d\n",
      "5 e\n"
     ]
    }
   ],
   "source": [
    "for index, harf in enumerate(harfler):\n",
    "    print(index+1, harf)"
   ]
  },
  {
   "cell_type": "code",
   "execution_count": 122,
   "id": "a641298c-cd9d-47cf-9808-9a94a6cff75c",
   "metadata": {},
   "outputs": [
    {
     "name": "stdout",
     "output_type": "stream",
     "text": [
      "1. harf: a \n",
      "2. harf: b \n",
      "3. harf: c \n",
      "4. harf: d \n",
      "5. harf: e \n"
     ]
    }
   ],
   "source": [
    "for index, harf in enumerate(harfler):\n",
    "    print(\"{}. harf: {} \".format(index+1, harf))"
   ]
  },
  {
   "cell_type": "markdown",
   "id": "e2475514-21e6-436d-9ee7-f73b9f4312c4",
   "metadata": {},
   "source": [
    "# **zip**"
   ]
  },
  {
   "cell_type": "code",
   "execution_count": 149,
   "id": "0008396c-8553-4901-b8bc-64cc9e5090bc",
   "metadata": {},
   "outputs": [
    {
     "name": "stdout",
     "output_type": "stream",
     "text": [
      "('TR', 1)\n",
      "('FR', 2)\n",
      "('DE', 3)\n"
     ]
    }
   ],
   "source": [
    "ulkeler = [\"TR\", \"FR\", \"DE\"]\n",
    "siralamalar = range(1,4)\n",
    "for ulke in zip(ulkeler,siralamalar):\n",
    "    print(ulke)"
   ]
  },
  {
   "cell_type": "markdown",
   "id": "6a62327b-5fbc-45e0-b9fd-dc231048167e",
   "metadata": {},
   "source": [
    "# **break**"
   ]
  },
  {
   "cell_type": "code",
   "execution_count": 75,
   "id": "057f31b9-45d7-4d5d-a157-44e49ff36b09",
   "metadata": {},
   "outputs": [
    {
     "name": "stdout",
     "output_type": "stream",
     "text": [
      "0 a\n",
      "1 b\n",
      "2 c\n",
      "3 d\n",
      "4 e\n"
     ]
    }
   ],
   "source": [
    "harfler = [\"a\", \"b\", \"c\", \"d\", \"e\"]        #geçmiş ders hatırlatması\n",
    "for index, harf in enumerate (harfler):\n",
    "    print (index, harf)"
   ]
  },
  {
   "cell_type": "code",
   "execution_count": 73,
   "id": "957cbdb6-cd90-4444-9656-4b401052707b",
   "metadata": {},
   "outputs": [
    {
     "name": "stdout",
     "output_type": "stream",
     "text": [
      "c harfi 2.index'te yer alır.\n"
     ]
    }
   ],
   "source": [
    "harfler = [\"a\", \"b\", \"c\", \"d\", \"e\"]           #geçmiş ders hatırlatması\n",
    "for (index, harf) in enumerate(harfler):\n",
    "   if harf == \"c\":\n",
    "       print(\"{} harfi {}.index'te yer alır.\".format(harf, index))\n"
   ]
  },
  {
   "cell_type": "code",
   "execution_count": null,
   "id": "3dacf695-e47e-4381-a25f-07903e40e722",
   "metadata": {},
   "outputs": [],
   "source": [
    "# Diyelim ki aşağıda ki örnekte ki gibi elimizde çok büyük bir liste var \n",
    "# ve bu listede tekrar eden harfler bulunuyor.\n",
    "# Biz bu listede ilk \"c\" harfinin hangi indeks numarasında geçtiğini bulmak istiyoruz.\n",
    "\n",
    "# Eğer tüm listeyi kontrol edersek, listede yer alan her \"c\" harfini tek tek bulup yazdırırız. \n",
    "# Ancak bizim yalnızca ilk \"c\" harfinin yerini bilmeye ihtiyacımız var.\n",
    "# İşte tam burada break komutu devreye giriyor.\n",
    "\n",
    "# Kodun çalışma mantığı şu şekilde:\n",
    "\n",
    "# Döngü başlıyor ve liste elemanlarını tek tek kontrol ediyor.\n",
    "# Eğer \"c\" harfine rastlarsa, onu ekrana yazdırıyor.\n",
    "# Daha sonra break komutu sayesinde döngüden çıkıyor ve gereksiz işlemlerden kaçınıyor.\n",
    "# Bu neden önemli? Çünkü büyük listelerde gereksiz yere tüm elemanları kontrol etmek yerine, \n",
    "# ilk bulduğumuz anda işlemi durdurarak zaman ve işlem gücünden tasarruf etmiş oluyoruz.\n",
    "\n",
    "# Bu, özellikle büyük veri kümelerinde ve optimizasyon gerektiren işlemlerde çok önemli bir tekniktir.\n",
    "\n",
    "\n",
    "\n",
    "\n",
    "\n",
    "\n",
    "\n"
   ]
  },
  {
   "cell_type": "code",
   "execution_count": 77,
   "id": "7ebb429e-7984-4760-97d8-9535dd7154bb",
   "metadata": {},
   "outputs": [
    {
     "name": "stdout",
     "output_type": "stream",
     "text": [
      "c harfi 2.index'te yer alır.\n",
      "c harfi 7.index'te yer alır.\n",
      "c harfi 12.index'te yer alır.\n",
      "c harfi 17.index'te yer alır.\n",
      "c harfi 22.index'te yer alır.\n",
      "c harfi 27.index'te yer alır.\n",
      "c harfi 32.index'te yer alır.\n",
      "c harfi 37.index'te yer alır.\n",
      "c harfi 42.index'te yer alır.\n",
      "c harfi 47.index'te yer alır.\n",
      "c harfi 52.index'te yer alır.\n",
      "c harfi 57.index'te yer alır.\n",
      "c harfi 62.index'te yer alır.\n",
      "c harfi 67.index'te yer alır.\n",
      "c harfi 72.index'te yer alır.\n",
      "c harfi 77.index'te yer alır.\n",
      "c harfi 82.index'te yer alır.\n",
      "c harfi 87.index'te yer alır.\n",
      "c harfi 92.index'te yer alır.\n",
      "c harfi 97.index'te yer alır.\n",
      "c harfi 102.index'te yer alır.\n",
      "c harfi 107.index'te yer alır.\n",
      "c harfi 112.index'te yer alır.\n",
      "c harfi 117.index'te yer alır.\n",
      "c harfi 122.index'te yer alır.\n",
      "c harfi 127.index'te yer alır.\n",
      "c harfi 132.index'te yer alır.\n",
      "c harfi 137.index'te yer alır.\n",
      "c harfi 142.index'te yer alır.\n",
      "c harfi 147.index'te yer alır.\n",
      "c harfi 152.index'te yer alır.\n",
      "c harfi 157.index'te yer alır.\n",
      "c harfi 162.index'te yer alır.\n",
      "c harfi 167.index'te yer alır.\n",
      "c harfi 172.index'te yer alır.\n",
      "c harfi 177.index'te yer alır.\n",
      "c harfi 182.index'te yer alır.\n",
      "c harfi 187.index'te yer alır.\n",
      "c harfi 192.index'te yer alır.\n",
      "c harfi 197.index'te yer alır.\n",
      "c harfi 202.index'te yer alır.\n",
      "c harfi 207.index'te yer alır.\n",
      "c harfi 212.index'te yer alır.\n",
      "c harfi 217.index'te yer alır.\n",
      "c harfi 222.index'te yer alır.\n",
      "c harfi 227.index'te yer alır.\n",
      "c harfi 232.index'te yer alır.\n",
      "c harfi 237.index'te yer alır.\n",
      "c harfi 242.index'te yer alır.\n",
      "c harfi 247.index'te yer alır.\n",
      "c harfi 252.index'te yer alır.\n",
      "c harfi 257.index'te yer alır.\n",
      "c harfi 262.index'te yer alır.\n",
      "c harfi 267.index'te yer alır.\n",
      "c harfi 272.index'te yer alır.\n",
      "c harfi 277.index'te yer alır.\n",
      "c harfi 282.index'te yer alır.\n",
      "c harfi 287.index'te yer alır.\n",
      "c harfi 292.index'te yer alır.\n",
      "c harfi 297.index'te yer alır.\n",
      "c harfi 302.index'te yer alır.\n",
      "c harfi 307.index'te yer alır.\n",
      "c harfi 312.index'te yer alır.\n",
      "c harfi 317.index'te yer alır.\n",
      "c harfi 322.index'te yer alır.\n",
      "c harfi 327.index'te yer alır.\n",
      "c harfi 332.index'te yer alır.\n",
      "c harfi 337.index'te yer alır.\n",
      "c harfi 342.index'te yer alır.\n",
      "c harfi 347.index'te yer alır.\n",
      "c harfi 352.index'te yer alır.\n",
      "c harfi 357.index'te yer alır.\n",
      "c harfi 362.index'te yer alır.\n",
      "c harfi 367.index'te yer alır.\n",
      "c harfi 372.index'te yer alır.\n",
      "c harfi 377.index'te yer alır.\n",
      "c harfi 382.index'te yer alır.\n",
      "c harfi 387.index'te yer alır.\n",
      "c harfi 392.index'te yer alır.\n",
      "c harfi 397.index'te yer alır.\n",
      "c harfi 402.index'te yer alır.\n",
      "c harfi 407.index'te yer alır.\n",
      "c harfi 412.index'te yer alır.\n",
      "c harfi 417.index'te yer alır.\n",
      "c harfi 422.index'te yer alır.\n",
      "c harfi 427.index'te yer alır.\n",
      "c harfi 432.index'te yer alır.\n",
      "c harfi 437.index'te yer alır.\n",
      "c harfi 442.index'te yer alır.\n",
      "c harfi 447.index'te yer alır.\n",
      "c harfi 452.index'te yer alır.\n",
      "c harfi 457.index'te yer alır.\n",
      "c harfi 462.index'te yer alır.\n",
      "c harfi 467.index'te yer alır.\n",
      "c harfi 472.index'te yer alır.\n",
      "c harfi 477.index'te yer alır.\n",
      "c harfi 482.index'te yer alır.\n",
      "c harfi 487.index'te yer alır.\n",
      "c harfi 492.index'te yer alır.\n",
      "c harfi 497.index'te yer alır.\n"
     ]
    }
   ],
   "source": [
    "harfler = [\"a\", \"b\", \"c\", \"d\", \"e\"]*100           \n",
    "for (index, harf) in enumerate(harfler):\n",
    "   if harf == \"c\":\n",
    "       print(\"{} harfi {}.index'te yer alır.\".format(harf, index))\n"
   ]
  },
  {
   "cell_type": "code",
   "execution_count": 79,
   "id": "b12047b4-bd11-4444-a09e-551d84e833e5",
   "metadata": {},
   "outputs": [
    {
     "name": "stdout",
     "output_type": "stream",
     "text": [
      "c harfi 2.index'te yer alır.\n"
     ]
    }
   ],
   "source": [
    "harfler = [\"a\", \"b\", \"c\", \"d\", \"e\"]*100           \n",
    "for (index, harf) in enumerate(harfler):\n",
    "   if harf == \"c\":\n",
    "       print(\"{} harfi {}.index'te yer alır.\".format(harf, index))\n",
    "       break\n"
   ]
  },
  {
   "cell_type": "markdown",
   "id": "4f90f467-f828-4d75-8d34-d52addb85806",
   "metadata": {},
   "source": [
    "# **continue**"
   ]
  },
  {
   "cell_type": "code",
   "execution_count": 90,
   "id": "d26f3538-93b5-4679-9456-74d5403032ce",
   "metadata": {},
   "outputs": [
    {
     "name": "stdout",
     "output_type": "stream",
     "text": [
      "1\n",
      "3\n",
      "5\n"
     ]
    }
   ],
   "source": [
    " for sayi in range(1,6):\n",
    "     if sayi%2==0:       #tek sayı sorgulama mantığı\n",
    "         continue\n",
    "     print(sayi)"
   ]
  },
  {
   "cell_type": "code",
   "execution_count": null,
   "id": "0fd290eb-d82b-4635-b46d-1816a97aa190",
   "metadata": {},
   "outputs": [],
   "source": [
    "#  if sayi%2==0:\n",
    "#         continue\n",
    "\n",
    "# bu ifade eğer böyle bir durum görürsen devam et, bu kısmı işleme alma anlamına geliyor.\n",
    "# continue, döngüyü tamamen durdurmaz (bunu yapan break komutudur).\n",
    "# continue, sadece o anki turu pas geçer, döngü çalışmaya devam eder.\n",
    "\n",
    "# Alternatif yol:"
   ]
  },
  {
   "cell_type": "code",
   "execution_count": 98,
   "id": "4f8ab117-410a-4cbb-b509-010b102ce850",
   "metadata": {},
   "outputs": [
    {
     "name": "stdout",
     "output_type": "stream",
     "text": [
      "1\n",
      "3\n",
      "5\n"
     ]
    }
   ],
   "source": [
    "for sayi in range (1,6):   #tek sayı sorgulama mantığı\n",
    "    if sayi%2 != 0:\n",
    "        print(sayi)"
   ]
  },
  {
   "cell_type": "markdown",
   "id": "26964c8b-43da-4424-867f-146ac35f9265",
   "metadata": {},
   "source": [
    "# **pass** "
   ]
  },
  {
   "cell_type": "code",
   "execution_count": 118,
   "id": "fbe187d2-37af-48a1-9525-50ef2e0083c4",
   "metadata": {},
   "outputs": [
    {
     "name": "stdout",
     "output_type": "stream",
     "text": [
      "2\n",
      "4\n"
     ]
    }
   ],
   "source": [
    "for sayi in range (1,6):\n",
    "    if sayi % 2 == 0:\n",
    "        pass\n",
    "        \n",
    "        print(sayi)\n",
    "\n",
    "# bu yanlış kullanım "
   ]
  },
  {
   "cell_type": "code",
   "execution_count": 114,
   "id": "c753e512-e9c2-4bc4-b063-babac3943927",
   "metadata": {},
   "outputs": [
    {
     "name": "stdout",
     "output_type": "stream",
     "text": [
      "1\n",
      "3\n",
      "5\n"
     ]
    }
   ],
   "source": [
    "for sayi in range(1, 6):\n",
    "    if sayi % 2 == 0:  # Eğer çift sayıysa\n",
    "        pass  # Hiçbir şey yapma\n",
    "    else:\n",
    "        print(sayi)  # Tek sayıları yazdır\n",
    "\n",
    "#doğru kullanım"
   ]
  },
  {
   "cell_type": "code",
   "execution_count": 124,
   "id": "f2fb4d73-6c5e-482e-a082-39cee94ed8b8",
   "metadata": {},
   "outputs": [
    {
     "name": "stdout",
     "output_type": "stream",
     "text": [
      "Hey\n"
     ]
    }
   ],
   "source": [
    "if sayi < 5:\n",
    "    pass\n",
    "else:\n",
    "    print(\"Hey\")\n"
   ]
  },
  {
   "cell_type": "code",
   "execution_count": null,
   "id": "8ab09679-46d6-47fd-92ba-31e8d570b26e",
   "metadata": {},
   "outputs": [],
   "source": [
    "# Hemen yukarı da ki örnekte ki gibi pass komutu;\n",
    "\n",
    "# henüz yazmadığımız veya geliştirmediğimiz kod bloklarını geçici olarak boş bırakmamızı sağlar. \n",
    "# Böylece Python, eksik kod yüzünden hata vermez. \n",
    "# Yani, bir kod bloğunun gelecekte yazılacağını belirterek,\n",
    "# programın çalışmasını kesintiye uğratmadan devam etmesini sağlarız. \n",
    "# Bu, özellikle bir fonksiyon veya döngü oluştururken ama içini henüz doldurmadığımız durumlarda işe yarar.\n"
   ]
  },
  {
   "cell_type": "code",
   "execution_count": null,
   "id": "0cda6ad6-8f00-45c0-98b5-27d623853b13",
   "metadata": {},
   "outputs": [],
   "source": [
    "#Not: break, continue, pass döngüler içerisinde kullanılır."
   ]
  },
  {
   "cell_type": "code",
   "execution_count": 126,
   "id": "c9e56972-844d-459f-bf11-60f79683598b",
   "metadata": {},
   "outputs": [],
   "source": [
    "######################## Durum ve Kullanılacak Komutlar ####################################\n",
    "#----------------------------------------------------------------|-------------------------#                                                                                       #\n",
    "#                  Durum                                         | Hangi Komut Kullanılır? #\n",
    "# ---------------------------------------------------------------|------------------------ #\n",
    "# Şart sağlanınca sadece o kısmı atlamak istiyorsan              |         continue        #\n",
    "# Şart sağlanınca döngüyü tamamen bitirmek istiyorsan            |         break           #\n",
    "# Şarta uymayanları çalıştırmak istiyorsan                       |         else            #\n",
    "# Daha sonra kod eklemek için geçici boş satır koymak istiyorsan |         pass            #\n",
    "#                                                                |                         #\n",
    "############################################################################################\n"
   ]
  },
  {
   "cell_type": "markdown",
   "id": "d834bbf2-8440-4ef7-832e-76aeec9abfa2",
   "metadata": {},
   "source": [
    "# **Fonksiyon Yapısı**"
   ]
  },
  {
   "cell_type": "raw",
   "id": "2d58e6d4-f36f-47d3-a40c-2ce095c24f74",
   "metadata": {},
   "source": [
    "def <fonksiyon_ismi>(<argümanlar>):   \n",
    "    \"\"\"\n",
    "    Bu kod ne işe yarar          \n",
    "    \"\"\"\n",
    "\n",
    "    ...\n",
    "    \n",
    "snake_case: programlamada kelimeleri alt çizgi (_) ile ayırarak yazma biçimidir.\n",
    "\n",
    "Kural:\n",
    "\n",
    "1-Kelimeler küçük harfle yazılır.\n",
    "2-Boşluk yerine _ kullanılır.\n",
    " \n",
    "    \n",
    "#docstring: Docstring (documentation string), Python'da bir fonksiyon, sınıf veya modül hakkında açıklama eklemek için kullanılan özel bir yorum satırıdır.\n",
    "\n",
    "✅ Üç tırnak (\"\"\" \"\"\" veya ''' ''') ile yazılır.\n",
    "✅ Kodun ne yaptığını açıklar.\n",
    "✅ Fonksiyon çağrıldığında .__doc__ ile erişilebilir.\n",
    "    \n",
    "#return/print: \n",
    "\n",
    "return ve print Farkı\n",
    "\n",
    "✅ return → Fonksiyonun çıktısını geri döndürür.\n",
    "✅ print → Ekrana bir şey yazdırır ama değeri döndürmez.\n",
    "\n",
    "1️⃣ return Kullanımı\n",
    "\n",
    "1-return, fonksiyonun bir değer döndürmesini sağlar.\n",
    "2-return ile dönen değeri başka bir değişkene atayabiliriz veya başka bir işlemde kullanabiliriz.\n",
    "3-return çağrıldıktan sonra fonksiyon çalışmayı durdurur.\n",
    "\n",
    "\n",
    "📝 Not: return, sadece değeri döndürür ama ekrana bir şey yazdırmaz.\n",
    "\n",
    "2️⃣ print Kullanımı\n",
    "\n",
    "1-print(), sadece ekrana yazdırır.\n",
    "2-Ama değeri geri döndürmez, yani başka bir değişkende saklayamayız.\n",
    "\n",
    "📝 Not: print(), ekrana yazdırdığı için fonksiyonun döndürdüğü değer None olur.\n",
    "\n",
    "Ne Zaman return, Ne Zaman print Kullanılmalı?\n",
    "\n",
    "✔ Eğer fonksiyonun çıktısını başka bir yerde kullanacaksan → return kullan.\n",
    "✔ Sadece ekrana yazdırmak istiyorsan → print kullan.\n"
   ]
  },
  {
   "cell_type": "code",
   "execution_count": 152,
   "id": "969b4e2f-a317-4e1c-a047-9bf9b4da823a",
   "metadata": {},
   "outputs": [],
   "source": [
    "def bes_bastir():\n",
    "    print(5)"
   ]
  },
  {
   "cell_type": "code",
   "execution_count": 138,
   "id": "a396067e-606b-45a9-b69b-6ac9c3538b7f",
   "metadata": {},
   "outputs": [
    {
     "name": "stdout",
     "output_type": "stream",
     "text": [
      "5\n"
     ]
    }
   ],
   "source": [
    "bes_bastir()"
   ]
  },
  {
   "cell_type": "code",
   "execution_count": 140,
   "id": "55054932-7d7f-4782-a92c-1010b5b92c50",
   "metadata": {},
   "outputs": [
    {
     "name": "stdout",
     "output_type": "stream",
     "text": [
      "5\n"
     ]
    }
   ],
   "source": [
    "print(5)"
   ]
  },
  {
   "cell_type": "markdown",
   "id": "90335785-fe00-436b-a3b1-9271cac9aec0",
   "metadata": {},
   "source": [
    "# **Fonsiyonlarda print ve return farkı**"
   ]
  },
  {
   "cell_type": "code",
   "execution_count": 181,
   "id": "5b04b524-eae1-49d1-8d03-2196bc7fc487",
   "metadata": {},
   "outputs": [],
   "source": [
    "def bes_dondur():\n",
    "    return 5\n",
    "  "
   ]
  },
  {
   "cell_type": "code",
   "execution_count": 179,
   "id": "be6f5650-d898-4f3b-adcf-f133dccd89fe",
   "metadata": {},
   "outputs": [
    {
     "data": {
      "text/plain": [
       "5"
      ]
     },
     "execution_count": 179,
     "metadata": {},
     "output_type": "execute_result"
    }
   ],
   "source": [
    "bes_dondur()"
   ]
  },
  {
   "cell_type": "code",
   "execution_count": 183,
   "id": "f12a1dcc-dbc8-473e-9010-8bcf887c4a97",
   "metadata": {},
   "outputs": [
    {
     "name": "stdout",
     "output_type": "stream",
     "text": [
      "5\n",
      "None\n"
     ]
    }
   ],
   "source": [
    "a = bes_bastir()\n",
    "print(a)"
   ]
  },
  {
   "cell_type": "code",
   "execution_count": 191,
   "id": "e14bf4af-d238-46b8-bde9-509c60682ea5",
   "metadata": {},
   "outputs": [
    {
     "name": "stdout",
     "output_type": "stream",
     "text": [
      "5\n"
     ]
    }
   ],
   "source": [
    "b = bes_dondur()\n",
    "print(b)"
   ]
  },
  {
   "cell_type": "code",
   "execution_count": 185,
   "id": "9c1dec42-45b6-4561-8376-60169aa1b4dc",
   "metadata": {},
   "outputs": [
    {
     "name": "stdout",
     "output_type": "stream",
     "text": [
      "8\n"
     ]
    }
   ],
   "source": [
    "def topla(a, b):\n",
    "    return a + b  # Değeri döndürür\n",
    "\n",
    "sonuc = topla(3, 5)  # Dönen değeri değişkene atayabiliriz\n",
    "print(sonuc)  # 8\n"
   ]
  },
  {
   "cell_type": "code",
   "execution_count": 187,
   "id": "f540fd2a-f778-4577-989b-523f3b7c34f3",
   "metadata": {},
   "outputs": [
    {
     "name": "stdout",
     "output_type": "stream",
     "text": [
      "8\n",
      "None\n"
     ]
    }
   ],
   "source": [
    "def topla(a, b):\n",
    "    print(a + b)  # Ekrana yazdırır, ama geri döndürmez\n",
    "\n",
    "sonuc = topla(3, 5)  # Fonksiyon sonucu ekrana yazdırır ama değişkene atanmaz\n",
    "print(sonuc)  # None\n"
   ]
  },
  {
   "cell_type": "code",
   "execution_count": null,
   "id": "14167494-fc0b-490c-8925-3d38744e6ac7",
   "metadata": {},
   "outputs": [],
   "source": [
    "8\n",
    "None\n"
   ]
  },
  {
   "cell_type": "raw",
   "id": "756a3393-6d8e-45cb-bc27-d9538e25324a",
   "metadata": {},
   "source": [
    "4️⃣ Özet\n",
    "\n",
    "1-return, fonksiyonun bir çıktı döndürmesini sağlar.\n",
    "2-print, sadece ekrana bir şey yazdırır, ama değer geri dönmez.\n",
    "3-Eğer fonksiyonun sonucunu başka bir yerde kullanmak istiyorsan, return kullanmalısın.\n",
    "4-Eğer sadece ekrana yazdırmak istiyorsan, print yeterlidir.\n"
   ]
  },
  {
   "cell_type": "markdown",
   "id": "4fe1f36d-912f-42fe-9e17-533bae7e72ae",
   "metadata": {},
   "source": [
    "# **Fonsiyonlarda Argümanlar**"
   ]
  },
  {
   "cell_type": "code",
   "execution_count": 199,
   "id": "6bd8700b-4469-4260-aff8-860e7dea7f70",
   "metadata": {},
   "outputs": [],
   "source": [
    "def sayi_dondur(sayi):\n",
    "    return sayi\n",
    "    "
   ]
  },
  {
   "cell_type": "code",
   "execution_count": 201,
   "id": "f447b4a3-9c33-4cc2-a90b-318f26dafa5c",
   "metadata": {},
   "outputs": [
    {
     "data": {
      "text/plain": [
       "10"
      ]
     },
     "execution_count": 201,
     "metadata": {},
     "output_type": "execute_result"
    }
   ],
   "source": [
    "sayi_dondur(10)"
   ]
  },
  {
   "cell_type": "code",
   "execution_count": 207,
   "id": "aa4d69a2-3c30-4d18-8edd-7990dba603e0",
   "metadata": {},
   "outputs": [
    {
     "data": {
      "text/plain": [
       "100"
      ]
     },
     "execution_count": 207,
     "metadata": {},
     "output_type": "execute_result"
    }
   ],
   "source": [
    "sayi_dondur(100)"
   ]
  },
  {
   "cell_type": "code",
   "execution_count": 209,
   "id": "f83a7598-3d3d-40bc-b64e-1f854d2f5980",
   "metadata": {},
   "outputs": [],
   "source": [
    "def sayi_dondur(sayi=250):\n",
    "    return sayi"
   ]
  },
  {
   "cell_type": "code",
   "execution_count": 211,
   "id": "4d2d1a80-68cb-4317-a8bd-fe23b104e820",
   "metadata": {},
   "outputs": [
    {
     "data": {
      "text/plain": [
       "89"
      ]
     },
     "execution_count": 211,
     "metadata": {},
     "output_type": "execute_result"
    }
   ],
   "source": [
    "sayi_dondur(89)"
   ]
  },
  {
   "cell_type": "code",
   "execution_count": 213,
   "id": "64bfe726-18f2-40ff-a29b-e4dac7c6ba2d",
   "metadata": {},
   "outputs": [
    {
     "data": {
      "text/plain": [
       "250"
      ]
     },
     "execution_count": 213,
     "metadata": {},
     "output_type": "execute_result"
    }
   ],
   "source": [
    "sayi_dondur()"
   ]
  },
  {
   "cell_type": "code",
   "execution_count": null,
   "id": "41abbc79-c901-4f66-86d9-1d1eead699fe",
   "metadata": {},
   "outputs": [],
   "source": [
    "# Varsayılan (Default) Parametrelerin Amacı\n",
    "\n",
    "# Varsayılan parametreler, fonksiyona bir argüman verilmezse,\n",
    "# otomatik olarak bir varsayılan değer kullanmasını sağlar. \n",
    "# Bu, kodu daha esnek hale getirir ve gereksiz hataları önler.\n",
    "\n"
   ]
  },
  {
   "cell_type": "code",
   "execution_count": 215,
   "id": "d7ea4050-2009-4ec0-8cb2-e6066be83c11",
   "metadata": {},
   "outputs": [],
   "source": [
    "def selam_ver(isim=\"Ziyaretçi\"):\n",
    "    print(f\"Merhaba, {isim}!\")\n"
   ]
  },
  {
   "cell_type": "code",
   "execution_count": 217,
   "id": "975ed72c-af4a-4cd3-a6fd-24ccd71b1e6f",
   "metadata": {},
   "outputs": [
    {
     "name": "stdout",
     "output_type": "stream",
     "text": [
      "Merhaba, Ahmet!\n"
     ]
    }
   ],
   "source": [
    "#Eğer kullanıcı bir isim verirse:\n",
    "selam_ver(\"Ahmet\")\n"
   ]
  },
  {
   "cell_type": "code",
   "execution_count": 219,
   "id": "9db31ca1-4c7f-45f4-929e-029871166135",
   "metadata": {},
   "outputs": [
    {
     "name": "stdout",
     "output_type": "stream",
     "text": [
      "Merhaba, Ziyaretçi!\n"
     ]
    }
   ],
   "source": [
    "#Eğer kullanıcı isim vermezse:\n",
    "selam_ver()\n"
   ]
  },
  {
   "cell_type": "code",
   "execution_count": 225,
   "id": "e329c4fe-e903-492a-a18e-1b2d5ad2ad02",
   "metadata": {},
   "outputs": [],
   "source": [
    "def buyuk_sayi_dondur(a, b):\n",
    "    if (a>b):\n",
    "        return a\n",
    "    elif (b>a):\n",
    "        return b"
   ]
  },
  {
   "cell_type": "code",
   "execution_count": 227,
   "id": "6424d0a1-7f6d-49f2-b035-3ae341dbbd94",
   "metadata": {},
   "outputs": [
    {
     "data": {
      "text/plain": [
       "10"
      ]
     },
     "execution_count": 227,
     "metadata": {},
     "output_type": "execute_result"
    }
   ],
   "source": [
    "buyuk_sayi_dondur(5, 10)"
   ]
  },
  {
   "cell_type": "code",
   "execution_count": 229,
   "id": "b6a49a8e-5ccd-497f-8c06-0633c267f4b9",
   "metadata": {},
   "outputs": [],
   "source": [
    "def metin_yazdir(a,b):\n",
    "    buyuk_sayi = buyuk_sayi_dondur(a,b)\n",
    "    sablon_metin = \"{} daha buyuk sayidir\".format(buyuk_sayi)\n",
    "    print(sablon_metin)"
   ]
  },
  {
   "cell_type": "code",
   "execution_count": 231,
   "id": "ee8a3d70-035c-44bc-bc5c-69f2423ec628",
   "metadata": {},
   "outputs": [
    {
     "name": "stdout",
     "output_type": "stream",
     "text": [
      "10 daha buyuk sayidir\n"
     ]
    }
   ],
   "source": [
    "metin_yazdir(5,10)"
   ]
  },
  {
   "cell_type": "code",
   "execution_count": 251,
   "id": "de60acb4-2c2d-45b9-8fc8-680f71fe6746",
   "metadata": {},
   "outputs": [],
   "source": [
    "def buyuk_olani_bul(a,b):\n",
    "    if (a > b):\n",
    "        return a\n",
    "    elif (b > a):\n",
    "            return b\n",
    "            "
   ]
  },
  {
   "cell_type": "code",
   "execution_count": 253,
   "id": "a56ba1b9-04da-41dc-9c79-fe856723862c",
   "metadata": {},
   "outputs": [
    {
     "data": {
      "text/plain": [
       "8"
      ]
     },
     "execution_count": 253,
     "metadata": {},
     "output_type": "execute_result"
    }
   ],
   "source": [
    "buyuk_olani_bul(6, 8)"
   ]
  },
  {
   "cell_type": "code",
   "execution_count": 263,
   "id": "e9dab796-5625-4ef9-98e4-fc400e60a73e",
   "metadata": {},
   "outputs": [],
   "source": [
    "def metin_yazdir (a,b):\n",
    "    buyuk_sayi  = buyuk_olani_bul (a, b)\n",
    "    sablon_metin = \"{} daha buyuk sayidir\".format(buyuk_sayi)\n",
    "    print (sablon_metin)\n",
    " \n",
    "    "
   ]
  },
  {
   "cell_type": "code",
   "execution_count": 269,
   "id": "d178d754-6930-4b3a-a9c5-cce3738af33f",
   "metadata": {},
   "outputs": [
    {
     "name": "stdout",
     "output_type": "stream",
     "text": [
      "8 daha buyuk sayidir\n"
     ]
    }
   ],
   "source": [
    "metin_yazdir (6,8)"
   ]
  },
  {
   "cell_type": "markdown",
   "id": "76d9b36f-47b5-4c7e-a2cf-ca9d51f3b9db",
   "metadata": {},
   "source": [
    "# **Fonksiyonlar Birden Fazla Sonuç Döndürebilir**"
   ]
  },
  {
   "cell_type": "code",
   "execution_count": 272,
   "id": "55f8cabb-af10-4e8f-a9d6-3034953fa677",
   "metadata": {},
   "outputs": [
    {
     "data": {
      "text/plain": [
       "['Gokce', 'Gun']"
      ]
     },
     "execution_count": 272,
     "metadata": {},
     "output_type": "execute_result"
    }
   ],
   "source": [
    "\"Gokce Gun\".split()"
   ]
  },
  {
   "cell_type": "code",
   "execution_count": 284,
   "id": "49b46cbd-c9a9-4765-b98f-af9ecbd8e1ec",
   "metadata": {},
   "outputs": [],
   "source": [
    "def isim_soyisim_ayirma(isim_soyisim):\n",
    "    isim = isim_soyisim.split()[0]\n",
    "    soyisim =  isim_soyisim.split()[1]\n",
    "    return isim, soyisim"
   ]
  },
  {
   "cell_type": "code",
   "execution_count": 286,
   "id": "ad9e3ad9-b96a-4ce8-af1e-828895f25d90",
   "metadata": {},
   "outputs": [
    {
     "data": {
      "text/plain": [
       "('Gokce', 'Gun')"
      ]
     },
     "execution_count": 286,
     "metadata": {},
     "output_type": "execute_result"
    }
   ],
   "source": [
    "isim_soyisim_ayirma(\"Gokce Gun\")"
   ]
  },
  {
   "cell_type": "code",
   "execution_count": 288,
   "id": "3ed6e3ff-c13c-4740-a2a2-4f63d50d4a31",
   "metadata": {},
   "outputs": [
    {
     "name": "stdout",
     "output_type": "stream",
     "text": [
      "Gokce\n",
      "Gun\n"
     ]
    }
   ],
   "source": [
    "a,b = isim_soyisim_ayirma(\"Gokce Gun\")\n",
    "print (a)\n",
    "print (b)"
   ]
  },
  {
   "cell_type": "code",
   "execution_count": null,
   "id": "167567e4-c475-48ff-bde4-9e042f986820",
   "metadata": {},
   "outputs": [],
   "source": []
  }
 ],
 "metadata": {
  "kernelspec": {
   "display_name": "Python (geo_env)",
   "language": "python",
   "name": "geo_env"
  },
  "language_info": {
   "codemirror_mode": {
    "name": "ipython",
    "version": 3
   },
   "file_extension": ".py",
   "mimetype": "text/x-python",
   "name": "python",
   "nbconvert_exporter": "python",
   "pygments_lexer": "ipython3",
   "version": "3.12.9"
  }
 },
 "nbformat": 4,
 "nbformat_minor": 5
}
